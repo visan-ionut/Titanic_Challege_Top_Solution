{
  "nbformat": 4,
  "nbformat_minor": 0,
  "metadata": {
    "colab": {
      "provenance": []
    },
    "kernelspec": {
      "name": "python3",
      "display_name": "Python 3"
    },
    "language_info": {
      "name": "python"
    }
  },
  "cells": [
    {
      "cell_type": "markdown",
      "source": [
        "--------------------------------------------------------------------------------\n",
        "**Overview:**\n",
        "\n",
        "This Google Colab notebook is designed to tackle the famous Titanic Machine Learning Challenge from Kaggle. The objective of this challenge is to predict the survival of passengers aboard the Titanic based on a variety of features, including age, gender, class, and more.\n",
        "\n",
        "**Link** - https://www.kaggle.com/competitions/titanic\n",
        "\n",
        "**Credit**:\n",
        "\n",
        "Ionuț Vișan (Master student - Artificial Intelligence, UNSTP Bucharest)\n",
        "\n",
        "**Contact**:\n",
        "\n",
        "ionut.visan2604@gmail.com\n",
        "\n",
        "https://www.linkedin.com/in/ionut-visan-721996221/\n",
        "\n",
        "!! **For any information or clarification, do not hesitate to send me a message.**"
      ],
      "metadata": {
        "id": "OfmQxl72aHLA"
      }
    },
    {
      "cell_type": "markdown",
      "source": [
        "--------------------------------------------------------------------------------\n",
        "**Table of Contents**\n",
        "\n",
        "1. Libraries\n",
        "2. Files Upload and Data Visualization\n",
        "3. Outliers Check for Age and Fare\n",
        "4. Fare Statistics\n",
        "5. Simple Imputation for Embarked and Fare\n",
        "6. Encoding Sex and Embarked\n",
        "7. Feature Correlation with Age\n",
        "8. Iterative Imputation for Age\n",
        "9. Feature Correlation\n",
        "10. Feature Creation\n",
        "11. Encoding Deck\n",
        "12. Iterative Imputation for Deck\n",
        "13. Feature Creation\n",
        "14. Drop Features with Less Importance\n",
        "15. Encoding Title, Deck, AgeBand, and FareBand\n",
        "16. Feature Correlation\n",
        "17. Normalization of Some Features\n",
        "18. Extract RFE Features\n",
        "19. Test Multiple Models\n",
        "20. Verify Some Optimized Models\n",
        "21. Check for Overfitting\n",
        "22. Check for Folds Stability\n",
        "23. Voting Classifier (Soft/Hard)\n",
        "24. Stacking Classifier\n",
        "25. Evaluation of the best obtained model\n",
        "26. Training on the entire train set and predicting on the entire test set to obtain submission.csv\n",
        "27. Saving the cleaned files\n",
        "28. Saving the obtained model"
      ],
      "metadata": {
        "id": "vgwLIa4gdmsA"
      }
    },
    {
      "cell_type": "markdown",
      "source": [
        "--------------------------------------------------------------------------------\n",
        "\n",
        "The best-performing model is: **Soft Voting Classifier**\n",
        "\n",
        "With an accuracy of: **0.8827**\n",
        "\n",
        "**Performance can be further improved over 0.9 through fine-tuning techniques. The obtained results are raw.**\n",
        "\n",
        "I tried several approaches for this challenge:\n",
        "1. Removing values that exceed certain percentiles (outliers) for Age/Fare + logarithmizing the values for Fare -> did not lead to better performance.\n",
        "2. Creating new features based on the available ones and subsequently imputing missing values using a better correlation for Age and Deck -> did not lead to better performance.\n",
        "3. Normalizing all attributes/some attributes before imputing for Age and Deck using KNeighborsRegressor -> did not lead to better performance.\n",
        "4. Using a different estimator for IterativeImputer -> did not lead to better performance.\n",
        "5. Using different hyperparameters for KNeighborsRegressor -> did not lead to better performance.\n",
        "6. Adding new features: polynomial or that capture other relationships between attributes -> did not lead to better performance.\n",
        "7. Using OneHotEncoder instead of LabelEncoder or specific mapping for a predefined dictionary -> did not lead to better performance.\n",
        "8. Extracting the best attributes to be used in prediction in a different way (other than RFE) -> did not lead to better performance.\n",
        "9. Using a different base model for RFE -> did not lead to better performance.\n",
        "10. Extracting more/fewer attributes (with RFE) to be used in prediction -> did not lead to better performance.\n",
        "11. Using other models/combinations of models (ensemble) -> did not lead to better performance.\n",
        "12. I tried small-scale Grid Search and Bayesian Optimization to check if improvements can be made through quick searches -> did not lead to better performance.\n",
        "13. Other improvement methods.\n",
        "\n",
        "**Of course, I may have made some mistakes in the implementation or there may be improvements to my approach.**\n",
        "\n",
        "**I would greatly appreciate it if you could improve this challenge and explain to me how I can increase my model's performance.**"
      ],
      "metadata": {
        "id": "RWhl70XtFJbI"
      }
    },
    {
      "cell_type": "markdown",
      "source": [
        "--------------------------------------------------------------------------------\n",
        "This code imports essential libraries and tools for data manipulation, preprocessing, model building, and evaluation in machine learning. It covers a wide range of functionalities, from basic operations and visualization to advanced machine learning models and statistical tests."
      ],
      "metadata": {
        "id": "6iwIJ8BIz4b3"
      }
    },
    {
      "cell_type": "code",
      "source": [
        "# Standard Libraries\n",
        "import pandas as pd\n",
        "import numpy as np\n",
        "import matplotlib.pyplot as plt\n",
        "import seaborn as sns\n",
        "\n",
        "# Preprocessing and Imputation\n",
        "from google.colab import files\n",
        "from sklearn.impute import SimpleImputer\n",
        "from sklearn.experimental import enable_iterative_imputer\n",
        "from sklearn.impute import IterativeImputer\n",
        "from sklearn.preprocessing import LabelEncoder, StandardScaler, MinMaxScaler\n",
        "\n",
        "# Models\n",
        "from sklearn.ensemble import (\n",
        "    RandomForestRegressor,\n",
        "    RandomForestClassifier,\n",
        "    GradientBoostingClassifier,\n",
        "    AdaBoostClassifier,\n",
        "    ExtraTreesClassifier,\n",
        "    VotingClassifier,\n",
        "    StackingClassifier,\n",
        "    HistGradientBoostingRegressor,\n",
        "    GradientBoostingRegressor\n",
        ")\n",
        "from sklearn.neighbors import KNeighborsRegressor, KNeighborsClassifier\n",
        "from sklearn.tree import DecisionTreeClassifier\n",
        "from sklearn.linear_model import LogisticRegression, LinearRegression\n",
        "from sklearn.svm import SVC\n",
        "from sklearn.neural_network import MLPClassifier\n",
        "\n",
        "# Advanced Models\n",
        "import xgboost as xgb\n",
        "from catboost import CatBoostClassifier, CatBoostRegressor\n",
        "from lightgbm import LGBMClassifier\n",
        "\n",
        "# Statistical Tests\n",
        "from scipy.stats import chi2_contingency\n",
        "\n",
        "# Model Evaluation and Selection\n",
        "from sklearn.feature_selection import RFE\n",
        "from sklearn.model_selection import train_test_split, cross_val_score\n",
        "from sklearn.metrics import accuracy_score\n",
        "\n",
        "# Saving and loading models\n",
        "import joblib\n",
        "\n",
        "# Additional Metrics\n",
        "from sklearn.metrics import confusion_matrix, classification_report, roc_auc_score, roc_curve, precision_score, recall_score, f1_score"
      ],
      "metadata": {
        "id": "GSQSXkS6Csqb"
      },
      "execution_count": 184,
      "outputs": []
    },
    {
      "cell_type": "markdown",
      "source": [
        "--------------------------------------------------------------------------------\n",
        "This code uploads the train.csv file from your local machine to the notebook environment for data processing."
      ],
      "metadata": {
        "id": "guV4pNaO0Bn-"
      }
    },
    {
      "cell_type": "code",
      "execution_count": null,
      "metadata": {
        "colab": {
          "base_uri": "https://localhost:8080/",
          "height": 73
        },
        "id": "JCmzD3k3BTFm",
        "outputId": "7b32e539-30fa-4742-d44e-c3976b9c04c8"
      },
      "outputs": [
        {
          "output_type": "display_data",
          "data": {
            "text/plain": [
              "<IPython.core.display.HTML object>"
            ],
            "text/html": [
              "\n",
              "     <input type=\"file\" id=\"files-ac84043f-bd20-49ca-9f06-4da5b8a5ca03\" name=\"files[]\" multiple disabled\n",
              "        style=\"border:none\" />\n",
              "     <output id=\"result-ac84043f-bd20-49ca-9f06-4da5b8a5ca03\">\n",
              "      Upload widget is only available when the cell has been executed in the\n",
              "      current browser session. Please rerun this cell to enable.\n",
              "      </output>\n",
              "      <script>// Copyright 2017 Google LLC\n",
              "//\n",
              "// Licensed under the Apache License, Version 2.0 (the \"License\");\n",
              "// you may not use this file except in compliance with the License.\n",
              "// You may obtain a copy of the License at\n",
              "//\n",
              "//      http://www.apache.org/licenses/LICENSE-2.0\n",
              "//\n",
              "// Unless required by applicable law or agreed to in writing, software\n",
              "// distributed under the License is distributed on an \"AS IS\" BASIS,\n",
              "// WITHOUT WARRANTIES OR CONDITIONS OF ANY KIND, either express or implied.\n",
              "// See the License for the specific language governing permissions and\n",
              "// limitations under the License.\n",
              "\n",
              "/**\n",
              " * @fileoverview Helpers for google.colab Python module.\n",
              " */\n",
              "(function(scope) {\n",
              "function span(text, styleAttributes = {}) {\n",
              "  const element = document.createElement('span');\n",
              "  element.textContent = text;\n",
              "  for (const key of Object.keys(styleAttributes)) {\n",
              "    element.style[key] = styleAttributes[key];\n",
              "  }\n",
              "  return element;\n",
              "}\n",
              "\n",
              "// Max number of bytes which will be uploaded at a time.\n",
              "const MAX_PAYLOAD_SIZE = 100 * 1024;\n",
              "\n",
              "function _uploadFiles(inputId, outputId) {\n",
              "  const steps = uploadFilesStep(inputId, outputId);\n",
              "  const outputElement = document.getElementById(outputId);\n",
              "  // Cache steps on the outputElement to make it available for the next call\n",
              "  // to uploadFilesContinue from Python.\n",
              "  outputElement.steps = steps;\n",
              "\n",
              "  return _uploadFilesContinue(outputId);\n",
              "}\n",
              "\n",
              "// This is roughly an async generator (not supported in the browser yet),\n",
              "// where there are multiple asynchronous steps and the Python side is going\n",
              "// to poll for completion of each step.\n",
              "// This uses a Promise to block the python side on completion of each step,\n",
              "// then passes the result of the previous step as the input to the next step.\n",
              "function _uploadFilesContinue(outputId) {\n",
              "  const outputElement = document.getElementById(outputId);\n",
              "  const steps = outputElement.steps;\n",
              "\n",
              "  const next = steps.next(outputElement.lastPromiseValue);\n",
              "  return Promise.resolve(next.value.promise).then((value) => {\n",
              "    // Cache the last promise value to make it available to the next\n",
              "    // step of the generator.\n",
              "    outputElement.lastPromiseValue = value;\n",
              "    return next.value.response;\n",
              "  });\n",
              "}\n",
              "\n",
              "/**\n",
              " * Generator function which is called between each async step of the upload\n",
              " * process.\n",
              " * @param {string} inputId Element ID of the input file picker element.\n",
              " * @param {string} outputId Element ID of the output display.\n",
              " * @return {!Iterable<!Object>} Iterable of next steps.\n",
              " */\n",
              "function* uploadFilesStep(inputId, outputId) {\n",
              "  const inputElement = document.getElementById(inputId);\n",
              "  inputElement.disabled = false;\n",
              "\n",
              "  const outputElement = document.getElementById(outputId);\n",
              "  outputElement.innerHTML = '';\n",
              "\n",
              "  const pickedPromise = new Promise((resolve) => {\n",
              "    inputElement.addEventListener('change', (e) => {\n",
              "      resolve(e.target.files);\n",
              "    });\n",
              "  });\n",
              "\n",
              "  const cancel = document.createElement('button');\n",
              "  inputElement.parentElement.appendChild(cancel);\n",
              "  cancel.textContent = 'Cancel upload';\n",
              "  const cancelPromise = new Promise((resolve) => {\n",
              "    cancel.onclick = () => {\n",
              "      resolve(null);\n",
              "    };\n",
              "  });\n",
              "\n",
              "  // Wait for the user to pick the files.\n",
              "  const files = yield {\n",
              "    promise: Promise.race([pickedPromise, cancelPromise]),\n",
              "    response: {\n",
              "      action: 'starting',\n",
              "    }\n",
              "  };\n",
              "\n",
              "  cancel.remove();\n",
              "\n",
              "  // Disable the input element since further picks are not allowed.\n",
              "  inputElement.disabled = true;\n",
              "\n",
              "  if (!files) {\n",
              "    return {\n",
              "      response: {\n",
              "        action: 'complete',\n",
              "      }\n",
              "    };\n",
              "  }\n",
              "\n",
              "  for (const file of files) {\n",
              "    const li = document.createElement('li');\n",
              "    li.append(span(file.name, {fontWeight: 'bold'}));\n",
              "    li.append(span(\n",
              "        `(${file.type || 'n/a'}) - ${file.size} bytes, ` +\n",
              "        `last modified: ${\n",
              "            file.lastModifiedDate ? file.lastModifiedDate.toLocaleDateString() :\n",
              "                                    'n/a'} - `));\n",
              "    const percent = span('0% done');\n",
              "    li.appendChild(percent);\n",
              "\n",
              "    outputElement.appendChild(li);\n",
              "\n",
              "    const fileDataPromise = new Promise((resolve) => {\n",
              "      const reader = new FileReader();\n",
              "      reader.onload = (e) => {\n",
              "        resolve(e.target.result);\n",
              "      };\n",
              "      reader.readAsArrayBuffer(file);\n",
              "    });\n",
              "    // Wait for the data to be ready.\n",
              "    let fileData = yield {\n",
              "      promise: fileDataPromise,\n",
              "      response: {\n",
              "        action: 'continue',\n",
              "      }\n",
              "    };\n",
              "\n",
              "    // Use a chunked sending to avoid message size limits. See b/62115660.\n",
              "    let position = 0;\n",
              "    do {\n",
              "      const length = Math.min(fileData.byteLength - position, MAX_PAYLOAD_SIZE);\n",
              "      const chunk = new Uint8Array(fileData, position, length);\n",
              "      position += length;\n",
              "\n",
              "      const base64 = btoa(String.fromCharCode.apply(null, chunk));\n",
              "      yield {\n",
              "        response: {\n",
              "          action: 'append',\n",
              "          file: file.name,\n",
              "          data: base64,\n",
              "        },\n",
              "      };\n",
              "\n",
              "      let percentDone = fileData.byteLength === 0 ?\n",
              "          100 :\n",
              "          Math.round((position / fileData.byteLength) * 100);\n",
              "      percent.textContent = `${percentDone}% done`;\n",
              "\n",
              "    } while (position < fileData.byteLength);\n",
              "  }\n",
              "\n",
              "  // All done.\n",
              "  yield {\n",
              "    response: {\n",
              "      action: 'complete',\n",
              "    }\n",
              "  };\n",
              "}\n",
              "\n",
              "scope.google = scope.google || {};\n",
              "scope.google.colab = scope.google.colab || {};\n",
              "scope.google.colab._files = {\n",
              "  _uploadFiles,\n",
              "  _uploadFilesContinue,\n",
              "};\n",
              "})(self);\n",
              "</script> "
            ]
          },
          "metadata": {}
        },
        {
          "output_type": "stream",
          "name": "stdout",
          "text": [
            "Saving train.csv to train.csv\n"
          ]
        }
      ],
      "source": [
        "# Upload train.csv file\n",
        "uploaded = files.upload()"
      ]
    },
    {
      "cell_type": "markdown",
      "source": [
        "--------------------------------------------------------------------------------\n",
        "This code reads the train.csv file into a DataFrame, displays basic information, summary statistics, and descriptions of categorical features."
      ],
      "metadata": {
        "id": "L49TgR1o0G3m"
      }
    },
    {
      "cell_type": "code",
      "source": [
        "# Read data from file\n",
        "train = pd.read_csv('train.csv')\n",
        "\n",
        "# Show info about the file\n",
        "train.info()\n",
        "print()\n",
        "print(train.describe())\n",
        "print()\n",
        "print(train.describe(include=['O']))"
      ],
      "metadata": {
        "colab": {
          "base_uri": "https://localhost:8080/"
        },
        "id": "Gwkbct6xCqU8",
        "outputId": "1eeb4856-911b-4535-e718-76f9955feaa3"
      },
      "execution_count": 185,
      "outputs": [
        {
          "output_type": "stream",
          "name": "stdout",
          "text": [
            "<class 'pandas.core.frame.DataFrame'>\n",
            "RangeIndex: 891 entries, 0 to 890\n",
            "Data columns (total 12 columns):\n",
            " #   Column       Non-Null Count  Dtype  \n",
            "---  ------       --------------  -----  \n",
            " 0   PassengerId  891 non-null    int64  \n",
            " 1   Survived     891 non-null    int64  \n",
            " 2   Pclass       891 non-null    int64  \n",
            " 3   Name         891 non-null    object \n",
            " 4   Sex          891 non-null    object \n",
            " 5   Age          714 non-null    float64\n",
            " 6   SibSp        891 non-null    int64  \n",
            " 7   Parch        891 non-null    int64  \n",
            " 8   Ticket       891 non-null    object \n",
            " 9   Fare         891 non-null    float64\n",
            " 10  Cabin        204 non-null    object \n",
            " 11  Embarked     889 non-null    object \n",
            "dtypes: float64(2), int64(5), object(5)\n",
            "memory usage: 83.7+ KB\n",
            "\n",
            "       PassengerId    Survived      Pclass         Age       SibSp  \\\n",
            "count   891.000000  891.000000  891.000000  714.000000  891.000000   \n",
            "mean    446.000000    0.383838    2.308642   29.699118    0.523008   \n",
            "std     257.353842    0.486592    0.836071   14.526497    1.102743   \n",
            "min       1.000000    0.000000    1.000000    0.420000    0.000000   \n",
            "25%     223.500000    0.000000    2.000000   20.125000    0.000000   \n",
            "50%     446.000000    0.000000    3.000000   28.000000    0.000000   \n",
            "75%     668.500000    1.000000    3.000000   38.000000    1.000000   \n",
            "max     891.000000    1.000000    3.000000   80.000000    8.000000   \n",
            "\n",
            "            Parch        Fare  \n",
            "count  891.000000  891.000000  \n",
            "mean     0.381594   32.204208  \n",
            "std      0.806057   49.693429  \n",
            "min      0.000000    0.000000  \n",
            "25%      0.000000    7.910400  \n",
            "50%      0.000000   14.454200  \n",
            "75%      0.000000   31.000000  \n",
            "max      6.000000  512.329200  \n",
            "\n",
            "                           Name   Sex  Ticket    Cabin Embarked\n",
            "count                       891   891     891      204      889\n",
            "unique                      891     2     681      147        3\n",
            "top     Braund, Mr. Owen Harris  male  347082  B96 B98        S\n",
            "freq                          1   577       7        4      644\n"
          ]
        }
      ]
    },
    {
      "cell_type": "markdown",
      "source": [
        "--------------------------------------------------------------------------------\n",
        "This code uploads the test.csv file from your local machine to the notebook environment for data processing."
      ],
      "metadata": {
        "id": "iu0Pu6jH0N4u"
      }
    },
    {
      "cell_type": "code",
      "source": [
        "# Upload test.csv file\n",
        "uploaded = files.upload()"
      ],
      "metadata": {
        "colab": {
          "base_uri": "https://localhost:8080/",
          "height": 73
        },
        "id": "KLwspZ06DBxz",
        "outputId": "0b2f0381-a1c3-4e65-a7a0-c47bf3fa29fc"
      },
      "execution_count": null,
      "outputs": [
        {
          "output_type": "display_data",
          "data": {
            "text/plain": [
              "<IPython.core.display.HTML object>"
            ],
            "text/html": [
              "\n",
              "     <input type=\"file\" id=\"files-f17403fe-4a21-42bc-b844-eb7475129372\" name=\"files[]\" multiple disabled\n",
              "        style=\"border:none\" />\n",
              "     <output id=\"result-f17403fe-4a21-42bc-b844-eb7475129372\">\n",
              "      Upload widget is only available when the cell has been executed in the\n",
              "      current browser session. Please rerun this cell to enable.\n",
              "      </output>\n",
              "      <script>// Copyright 2017 Google LLC\n",
              "//\n",
              "// Licensed under the Apache License, Version 2.0 (the \"License\");\n",
              "// you may not use this file except in compliance with the License.\n",
              "// You may obtain a copy of the License at\n",
              "//\n",
              "//      http://www.apache.org/licenses/LICENSE-2.0\n",
              "//\n",
              "// Unless required by applicable law or agreed to in writing, software\n",
              "// distributed under the License is distributed on an \"AS IS\" BASIS,\n",
              "// WITHOUT WARRANTIES OR CONDITIONS OF ANY KIND, either express or implied.\n",
              "// See the License for the specific language governing permissions and\n",
              "// limitations under the License.\n",
              "\n",
              "/**\n",
              " * @fileoverview Helpers for google.colab Python module.\n",
              " */\n",
              "(function(scope) {\n",
              "function span(text, styleAttributes = {}) {\n",
              "  const element = document.createElement('span');\n",
              "  element.textContent = text;\n",
              "  for (const key of Object.keys(styleAttributes)) {\n",
              "    element.style[key] = styleAttributes[key];\n",
              "  }\n",
              "  return element;\n",
              "}\n",
              "\n",
              "// Max number of bytes which will be uploaded at a time.\n",
              "const MAX_PAYLOAD_SIZE = 100 * 1024;\n",
              "\n",
              "function _uploadFiles(inputId, outputId) {\n",
              "  const steps = uploadFilesStep(inputId, outputId);\n",
              "  const outputElement = document.getElementById(outputId);\n",
              "  // Cache steps on the outputElement to make it available for the next call\n",
              "  // to uploadFilesContinue from Python.\n",
              "  outputElement.steps = steps;\n",
              "\n",
              "  return _uploadFilesContinue(outputId);\n",
              "}\n",
              "\n",
              "// This is roughly an async generator (not supported in the browser yet),\n",
              "// where there are multiple asynchronous steps and the Python side is going\n",
              "// to poll for completion of each step.\n",
              "// This uses a Promise to block the python side on completion of each step,\n",
              "// then passes the result of the previous step as the input to the next step.\n",
              "function _uploadFilesContinue(outputId) {\n",
              "  const outputElement = document.getElementById(outputId);\n",
              "  const steps = outputElement.steps;\n",
              "\n",
              "  const next = steps.next(outputElement.lastPromiseValue);\n",
              "  return Promise.resolve(next.value.promise).then((value) => {\n",
              "    // Cache the last promise value to make it available to the next\n",
              "    // step of the generator.\n",
              "    outputElement.lastPromiseValue = value;\n",
              "    return next.value.response;\n",
              "  });\n",
              "}\n",
              "\n",
              "/**\n",
              " * Generator function which is called between each async step of the upload\n",
              " * process.\n",
              " * @param {string} inputId Element ID of the input file picker element.\n",
              " * @param {string} outputId Element ID of the output display.\n",
              " * @return {!Iterable<!Object>} Iterable of next steps.\n",
              " */\n",
              "function* uploadFilesStep(inputId, outputId) {\n",
              "  const inputElement = document.getElementById(inputId);\n",
              "  inputElement.disabled = false;\n",
              "\n",
              "  const outputElement = document.getElementById(outputId);\n",
              "  outputElement.innerHTML = '';\n",
              "\n",
              "  const pickedPromise = new Promise((resolve) => {\n",
              "    inputElement.addEventListener('change', (e) => {\n",
              "      resolve(e.target.files);\n",
              "    });\n",
              "  });\n",
              "\n",
              "  const cancel = document.createElement('button');\n",
              "  inputElement.parentElement.appendChild(cancel);\n",
              "  cancel.textContent = 'Cancel upload';\n",
              "  const cancelPromise = new Promise((resolve) => {\n",
              "    cancel.onclick = () => {\n",
              "      resolve(null);\n",
              "    };\n",
              "  });\n",
              "\n",
              "  // Wait for the user to pick the files.\n",
              "  const files = yield {\n",
              "    promise: Promise.race([pickedPromise, cancelPromise]),\n",
              "    response: {\n",
              "      action: 'starting',\n",
              "    }\n",
              "  };\n",
              "\n",
              "  cancel.remove();\n",
              "\n",
              "  // Disable the input element since further picks are not allowed.\n",
              "  inputElement.disabled = true;\n",
              "\n",
              "  if (!files) {\n",
              "    return {\n",
              "      response: {\n",
              "        action: 'complete',\n",
              "      }\n",
              "    };\n",
              "  }\n",
              "\n",
              "  for (const file of files) {\n",
              "    const li = document.createElement('li');\n",
              "    li.append(span(file.name, {fontWeight: 'bold'}));\n",
              "    li.append(span(\n",
              "        `(${file.type || 'n/a'}) - ${file.size} bytes, ` +\n",
              "        `last modified: ${\n",
              "            file.lastModifiedDate ? file.lastModifiedDate.toLocaleDateString() :\n",
              "                                    'n/a'} - `));\n",
              "    const percent = span('0% done');\n",
              "    li.appendChild(percent);\n",
              "\n",
              "    outputElement.appendChild(li);\n",
              "\n",
              "    const fileDataPromise = new Promise((resolve) => {\n",
              "      const reader = new FileReader();\n",
              "      reader.onload = (e) => {\n",
              "        resolve(e.target.result);\n",
              "      };\n",
              "      reader.readAsArrayBuffer(file);\n",
              "    });\n",
              "    // Wait for the data to be ready.\n",
              "    let fileData = yield {\n",
              "      promise: fileDataPromise,\n",
              "      response: {\n",
              "        action: 'continue',\n",
              "      }\n",
              "    };\n",
              "\n",
              "    // Use a chunked sending to avoid message size limits. See b/62115660.\n",
              "    let position = 0;\n",
              "    do {\n",
              "      const length = Math.min(fileData.byteLength - position, MAX_PAYLOAD_SIZE);\n",
              "      const chunk = new Uint8Array(fileData, position, length);\n",
              "      position += length;\n",
              "\n",
              "      const base64 = btoa(String.fromCharCode.apply(null, chunk));\n",
              "      yield {\n",
              "        response: {\n",
              "          action: 'append',\n",
              "          file: file.name,\n",
              "          data: base64,\n",
              "        },\n",
              "      };\n",
              "\n",
              "      let percentDone = fileData.byteLength === 0 ?\n",
              "          100 :\n",
              "          Math.round((position / fileData.byteLength) * 100);\n",
              "      percent.textContent = `${percentDone}% done`;\n",
              "\n",
              "    } while (position < fileData.byteLength);\n",
              "  }\n",
              "\n",
              "  // All done.\n",
              "  yield {\n",
              "    response: {\n",
              "      action: 'complete',\n",
              "    }\n",
              "  };\n",
              "}\n",
              "\n",
              "scope.google = scope.google || {};\n",
              "scope.google.colab = scope.google.colab || {};\n",
              "scope.google.colab._files = {\n",
              "  _uploadFiles,\n",
              "  _uploadFilesContinue,\n",
              "};\n",
              "})(self);\n",
              "</script> "
            ]
          },
          "metadata": {}
        },
        {
          "output_type": "stream",
          "name": "stdout",
          "text": [
            "Saving test.csv to test.csv\n"
          ]
        }
      ]
    },
    {
      "cell_type": "markdown",
      "source": [
        "--------------------------------------------------------------------------------\n",
        "This code reads the test.csv file into a DataFrame, displays basic information, summary statistics, and descriptions of categorical features."
      ],
      "metadata": {
        "id": "n_aJCXr10ROj"
      }
    },
    {
      "cell_type": "code",
      "source": [
        "# Read data from file\n",
        "test = pd.read_csv('test.csv')\n",
        "\n",
        "# Show info about the file\n",
        "test.info()\n",
        "print()\n",
        "print(test.describe())\n",
        "print()\n",
        "print(test.describe(include=['O']))"
      ],
      "metadata": {
        "colab": {
          "base_uri": "https://localhost:8080/"
        },
        "id": "PU_SaL2nDCcD",
        "outputId": "55987ce1-effd-46c3-e267-8bbbbc2d59f8"
      },
      "execution_count": 186,
      "outputs": [
        {
          "output_type": "stream",
          "name": "stdout",
          "text": [
            "<class 'pandas.core.frame.DataFrame'>\n",
            "RangeIndex: 418 entries, 0 to 417\n",
            "Data columns (total 11 columns):\n",
            " #   Column       Non-Null Count  Dtype  \n",
            "---  ------       --------------  -----  \n",
            " 0   PassengerId  418 non-null    int64  \n",
            " 1   Pclass       418 non-null    int64  \n",
            " 2   Name         418 non-null    object \n",
            " 3   Sex          418 non-null    object \n",
            " 4   Age          332 non-null    float64\n",
            " 5   SibSp        418 non-null    int64  \n",
            " 6   Parch        418 non-null    int64  \n",
            " 7   Ticket       418 non-null    object \n",
            " 8   Fare         417 non-null    float64\n",
            " 9   Cabin        91 non-null     object \n",
            " 10  Embarked     418 non-null    object \n",
            "dtypes: float64(2), int64(4), object(5)\n",
            "memory usage: 36.0+ KB\n",
            "\n",
            "       PassengerId      Pclass         Age       SibSp       Parch        Fare\n",
            "count   418.000000  418.000000  332.000000  418.000000  418.000000  417.000000\n",
            "mean   1100.500000    2.265550   30.272590    0.447368    0.392344   35.627188\n",
            "std     120.810458    0.841838   14.181209    0.896760    0.981429   55.907576\n",
            "min     892.000000    1.000000    0.170000    0.000000    0.000000    0.000000\n",
            "25%     996.250000    1.000000   21.000000    0.000000    0.000000    7.895800\n",
            "50%    1100.500000    3.000000   27.000000    0.000000    0.000000   14.454200\n",
            "75%    1204.750000    3.000000   39.000000    1.000000    0.000000   31.500000\n",
            "max    1309.000000    3.000000   76.000000    8.000000    9.000000  512.329200\n",
            "\n",
            "                    Name   Sex    Ticket            Cabin Embarked\n",
            "count                418   418       418               91      418\n",
            "unique               418     2       363               76        3\n",
            "top     Kelly, Mr. James  male  PC 17608  B57 B59 B63 B66        S\n",
            "freq                   1   266         5                3      270\n"
          ]
        }
      ]
    },
    {
      "cell_type": "markdown",
      "source": [
        "--------------------------------------------------------------------------------\n",
        "This code generates and displays boxplots for the 'Age' and 'Fare' features in both the train and test datasets, providing visual insights into their distributions and potential outliers."
      ],
      "metadata": {
        "id": "Wxja-Syp0Xke"
      }
    },
    {
      "cell_type": "code",
      "source": [
        "# Boxplot for 'Age' and 'Fare' in the train dataset\n",
        "plt.figure(figsize=(10, 6))\n",
        "sns.boxplot(data=train[['Age', 'Fare']])\n",
        "plt.title(\"Boxplot for Age and Fare (train)\")\n",
        "plt.show()\n",
        "\n",
        "# Boxplot for 'Age' and 'Fare' in the test dataset\n",
        "plt.figure(figsize=(10, 6))\n",
        "sns.boxplot(data=test[['Age', 'Fare']])\n",
        "plt.title(\"Boxplot for Age and Fare (test)\")\n",
        "plt.show()"
      ],
      "metadata": {
        "colab": {
          "base_uri": "https://localhost:8080/",
          "height": 1000
        },
        "id": "FN5uFdx_0tPe",
        "outputId": "c2933b93-bf1e-4796-d602-8958d223357a"
      },
      "execution_count": 187,
      "outputs": [
        {
          "output_type": "display_data",
          "data": {
            "text/plain": [
              "<Figure size 1000x600 with 1 Axes>"
            ],
            "image/png": "[encoded data removed]"
          },
          "metadata": {}
        },
        {
          "output_type": "display_data",
          "data": {
            "text/plain": [
              "<Figure size 1000x600 with 1 Axes>"
            ],
            "image/png": "[encoded data removed]"
          },
          "metadata": {}
        }
      ]
    },
    {
      "cell_type": "markdown",
      "source": [
        "--------------------------------------------------------------------------------\n",
        "This code outputs summary statistics for the 'Fare' feature in both the train and test datasets, providing key insights such as mean, standard deviation, minimum, and maximum values."
      ],
      "metadata": {
        "id": "Db6BFUTa0cIz"
      }
    },
    {
      "cell_type": "code",
      "source": [
        "# Display summary statistics for 'Fare' in the train dataset\n",
        "print(train['Fare'].describe())\n",
        "print()\n",
        "\n",
        "# Display summary statistics for 'Fare' in the test dataset\n",
        "print(test['Fare'].describe())"
      ],
      "metadata": {
        "colab": {
          "base_uri": "https://localhost:8080/"
        },
        "id": "bCu3TtHq31A9",
        "outputId": "4f8b25f3-1b75-4530-818d-34e67ade52a7"
      },
      "execution_count": 188,
      "outputs": [
        {
          "output_type": "stream",
          "name": "stdout",
          "text": [
            "count    891.000000\n",
            "mean      32.204208\n",
            "std       49.693429\n",
            "min        0.000000\n",
            "25%        7.910400\n",
            "50%       14.454200\n",
            "75%       31.000000\n",
            "max      512.329200\n",
            "Name: Fare, dtype: float64\n",
            "\n",
            "count    417.000000\n",
            "mean      35.627188\n",
            "std       55.907576\n",
            "min        0.000000\n",
            "25%        7.895800\n",
            "50%       14.454200\n",
            "75%       31.500000\n",
            "max      512.329200\n",
            "Name: Fare, dtype: float64\n"
          ]
        }
      ]
    },
    {
      "cell_type": "markdown",
      "source": [
        "--------------------------------------------------------------------------------\n",
        "This code uses a SimpleImputer to fill missing values in the 'Embarked' column of the train and test datasets with the most frequent value, and in the 'Fare' column of the test dataset. It then checks for any remaining missing values after the imputation process."
      ],
      "metadata": {
        "id": "Js-_ra1U0isF"
      }
    },
    {
      "cell_type": "code",
      "source": [
        "# Creating a SimpleImputer to fill missing values in the 'Embarked' column\n",
        "imputer = SimpleImputer(strategy='most_frequent')\n",
        "\n",
        "# Applying the imputer on the 'Embarked' column in the train and test datasets\n",
        "train['Embarked'] = imputer.fit_transform(train[['Embarked']]).ravel()\n",
        "test['Embarked'] = imputer.fit_transform(test[['Embarked']]).ravel()\n",
        "\n",
        "# Applying the imputer on the 'Fare' column in the test dataset\n",
        "test['Fare'] = imputer.fit_transform(test[['Fare']]).ravel()\n",
        "\n",
        "# Checking for any remaining missing values after imputation\n",
        "print(train[['Embarked']].isnull().sum())\n",
        "print(test[['Embarked']].isnull().sum())\n",
        "print(test[['Fare']].isnull().sum())"
      ],
      "metadata": {
        "colab": {
          "base_uri": "https://localhost:8080/"
        },
        "id": "rY-yWWK591pU",
        "outputId": "af29e39b-eba4-4e73-f862-7c7dde7f03ae"
      },
      "execution_count": 189,
      "outputs": [
        {
          "output_type": "stream",
          "name": "stdout",
          "text": [
            "Embarked    0\n",
            "dtype: int64\n",
            "Embarked    0\n",
            "dtype: int64\n",
            "Fare    0\n",
            "dtype: int64\n"
          ]
        }
      ]
    },
    {
      "cell_type": "markdown",
      "source": [
        "--------------------------------------------------------------------------------\n",
        "This code converts the 'Sex' and 'Embarked' columns in both the train and test datasets from categorical to numerical values, with 'Sex' being mapped to 0 for male and 1 for female, and 'Embarked' being mapped to 0 for 'S', 1 for 'C', and 2 for 'Q'."
      ],
      "metadata": {
        "id": "6gdPTBcO0nJ6"
      }
    },
    {
      "cell_type": "code",
      "source": [
        "# Convert 'Sex' and 'Embarked' columns in the train dataset to numerical values\n",
        "train['Sex'] = train['Sex'].map({'male': 0, 'female': 1})\n",
        "train['Embarked'] = train['Embarked'].map({'S': 0, 'C': 1, 'Q': 2})\n",
        "\n",
        "# Convert 'Sex' and 'Embarked' columns in the test dataset to numerical values\n",
        "test['Sex'] = test['Sex'].map({'male': 0, 'female': 1})\n",
        "test['Embarked'] = test['Embarked'].map({'S': 0, 'C': 1, 'Q': 2})"
      ],
      "metadata": {
        "id": "XMPBRqTl9UVk"
      },
      "execution_count": 190,
      "outputs": []
    },
    {
      "cell_type": "markdown",
      "source": [
        "--------------------------------------------------------------------------------\n",
        "This code calculates the correlation between the 'Age' feature and other selected features ('Pclass', 'SibSp', 'Parch', 'Fare', 'Sex', 'Embarked') in the train dataset, and then sorts these correlations in descending order to identify which features are most strongly related to 'Age'."
      ],
      "metadata": {
        "id": "QLiwOkPI0qe1"
      }
    },
    {
      "cell_type": "code",
      "source": [
        "# Selecting features for correlation calculation\n",
        "features = ['Pclass', 'SibSp', 'Parch', 'Fare', 'Sex', 'Embarked']\n",
        "\n",
        "# Adding 'Age' to the list of features\n",
        "correlation_data = train[features + ['Age']]\n",
        "\n",
        "# Calculating the correlation matrix\n",
        "correlation_matrix = correlation_data.corr()\n",
        "\n",
        "# Extracting correlations with 'Age' and sorting in descending order\n",
        "age_correlation = correlation_matrix['Age'].abs().sort_values(ascending=False)\n",
        "print(age_correlation)"
      ],
      "metadata": {
        "colab": {
          "base_uri": "https://localhost:8080/"
        },
        "id": "FdpaS5z67RWb",
        "outputId": "e7860ea4-603a-4641-8d16-5b86d6f3824c"
      },
      "execution_count": 191,
      "outputs": [
        {
          "output_type": "stream",
          "name": "stdout",
          "text": [
            "Age         1.000000\n",
            "Pclass      0.369226\n",
            "SibSp       0.308247\n",
            "Parch       0.189119\n",
            "Fare        0.096067\n",
            "Sex         0.093254\n",
            "Embarked    0.010171\n",
            "Name: Age, dtype: float64\n"
          ]
        }
      ]
    },
    {
      "cell_type": "markdown",
      "source": [
        "--------------------------------------------------------------------------------\n",
        "This code imputes missing 'Age' values in the train dataset using IterativeImputer with KNeighborsRegressor, updates the dataset, and then compares the distributions of the original and imputed 'Age' values through summary statistics and visualizations."
      ],
      "metadata": {
        "id": "nnbB7JHK052O"
      }
    },
    {
      "cell_type": "code",
      "source": [
        "# Selecting relevant features for imputation\n",
        "features_for_imputation = ['Age', 'Pclass', 'SibSp', 'Parch', 'Fare', 'Sex', 'Embarked']\n",
        "\n",
        "# Creating a subset of data with the relevant features for imputation\n",
        "impute_data = train[features_for_imputation]\n",
        "\n",
        "# Keeping a copy of the initial values of 'Age'\n",
        "train['Age_initial'] = train['Age']\n",
        "\n",
        "# Applying IterativeImputer using KNeighborsRegressor and setting bounds\n",
        "iter_imputer = IterativeImputer(estimator=KNeighborsRegressor(n_neighbors=5), max_iter=100, random_state=42)\n",
        "imputed_data = iter_imputer.fit_transform(impute_data)\n",
        "\n",
        "# Transferring imputed 'Age' values back to the original dataset, with lower bounds set\n",
        "imputed_ages = imputed_data[:, 0]\n",
        "imputed_ages = np.clip(imputed_ages, 0, None)  # Set lower bounds to 0\n",
        "\n",
        "# Updating 'Age' in the train dataset only where it was NaN\n",
        "train.loc[train['Age'].isna(), 'Age'] = imputed_ages[train['Age'].isna()]\n",
        "\n",
        "# Checking the distribution of initial and imputed 'Age' values\n",
        "print(\"Distribution of initial 'Age' values (including NaN):\")\n",
        "print(train['Age_initial'].describe())\n",
        "\n",
        "print(\"\\nDistribution of imputed 'Age' values:\")\n",
        "print(train['Age'].describe())\n",
        "\n",
        "# Visualizing the distribution of initial and imputed 'Age' values\n",
        "plt.figure(figsize=(14, 7))\n",
        "sns.histplot(train['Age_initial'], kde=True, color='blue', label='Initial Age', bins=30)\n",
        "sns.histplot(train['Age'], kde=True, color='red', label='Imputed Age', bins=30)\n",
        "plt.legend()\n",
        "plt.title('Distribution of Initial and Imputed Age Values')\n",
        "plt.show()"
      ],
      "metadata": {
        "colab": {
          "base_uri": "https://localhost:8080/",
          "height": 1000
        },
        "id": "9sM26NvTKsm9",
        "outputId": "7b1c3f7c-8d5a-4f3c-e764-8803bf7b499a"
      },
      "execution_count": 192,
      "outputs": [
        {
          "output_type": "stream",
          "name": "stdout",
          "text": [
            "Distribution of initial 'Age' values (including NaN):\n",
            "count    714.000000\n",
            "mean      29.699118\n",
            "std       14.526497\n",
            "min        0.420000\n",
            "25%       20.125000\n",
            "50%       28.000000\n",
            "75%       38.000000\n",
            "max       80.000000\n",
            "Name: Age_initial, dtype: float64\n",
            "\n",
            "Distribution of imputed 'Age' values:\n",
            "count    891.000000\n",
            "mean      29.991850\n",
            "std       13.569087\n",
            "min        0.420000\n",
            "25%       21.100000\n",
            "50%       29.000000\n",
            "75%       38.000000\n",
            "max       80.000000\n",
            "Name: Age, dtype: float64\n"
          ]
        },
        {
          "output_type": "display_data",
          "data": {
            "text/plain": [
              "<Figure size 1400x700 with 1 Axes>"
            ],
            "image/png": "[encoded data removed]"
          },
          "metadata": {}
        }
      ]
    },
    {
      "cell_type": "markdown",
      "source": [
        "--------------------------------------------------------------------------------\n",
        "This code imputes missing 'Age' values in the test dataset using IterativeImputer with KNeighborsRegressor, updates the dataset, and then compares the distributions of the original and imputed 'Age' values through summary statistics and visualizations."
      ],
      "metadata": {
        "id": "h3RDF5WP08Ca"
      }
    },
    {
      "cell_type": "code",
      "source": [
        "# Selecting relevant features for imputation\n",
        "features_for_imputation = ['Age', 'Pclass', 'SibSp', 'Parch', 'Fare', 'Sex', 'Embarked']\n",
        "\n",
        "# Creating a subset of data with the relevant features for imputation\n",
        "impute_data = test[features_for_imputation]\n",
        "\n",
        "# Keeping a copy of the initial values of 'Age'\n",
        "test['Age_initial'] = test['Age']\n",
        "\n",
        "# Applying IterativeImputer using RandomForestRegressor and setting bounds\n",
        "iter_imputer = IterativeImputer(estimator=KNeighborsRegressor(n_neighbors=5), max_iter=100, random_state=42)\n",
        "imputed_data = iter_imputer.fit_transform(impute_data)\n",
        "\n",
        "# Transferring imputed 'Age' values back to the original dataset, with lower bounds set\n",
        "imputed_ages = imputed_data[:, 0]\n",
        "imputed_ages = np.clip(imputed_ages, 0, None)  # Set lower bounds to 0\n",
        "\n",
        "# Updating 'Age' in the test dataset only where it was NaN\n",
        "test.loc[test['Age'].isna(), 'Age'] = imputed_ages[test['Age'].isna()]\n",
        "\n",
        "# Checking the distribution of initial and imputed 'Age' values\n",
        "print(\"Distribution of initial 'Age' values (including NaN):\")\n",
        "print(test['Age_initial'].describe())\n",
        "\n",
        "print(\"\\nDistribution of imputed 'Age' values:\")\n",
        "print(test['Age'].describe())\n",
        "\n",
        "# Visualizing the distribution of initial and imputed 'Age' values\n",
        "plt.figure(figsize=(14, 7))\n",
        "sns.histplot(test['Age_initial'], kde=True, color='blue', label='Initial Age', bins=30)\n",
        "sns.histplot(test['Age'], kde=True, color='red', label='Imputed Age', bins=30)\n",
        "plt.legend()\n",
        "plt.title('Distribution of Initial and Imputed Age Values')\n",
        "plt.show()"
      ],
      "metadata": {
        "colab": {
          "base_uri": "https://localhost:8080/",
          "height": 1000
        },
        "id": "rlJs2Pu2LTrt",
        "outputId": "cb667427-2bb8-419d-e25d-c4f5a3ddfafd"
      },
      "execution_count": 193,
      "outputs": [
        {
          "output_type": "stream",
          "name": "stdout",
          "text": [
            "Distribution of initial 'Age' values (including NaN):\n",
            "count    332.000000\n",
            "mean      30.272590\n",
            "std       14.181209\n",
            "min        0.170000\n",
            "25%       21.000000\n",
            "50%       27.000000\n",
            "75%       39.000000\n",
            "max       76.000000\n",
            "Name: Age_initial, dtype: float64\n",
            "\n",
            "Distribution of imputed 'Age' values:\n",
            "count    418.000000\n",
            "mean      29.697129\n",
            "std       12.964948\n",
            "min        0.170000\n",
            "25%       22.000000\n",
            "50%       27.000000\n",
            "75%       36.575000\n",
            "max       76.000000\n",
            "Name: Age, dtype: float64\n"
          ]
        },
        {
          "output_type": "display_data",
          "data": {
            "text/plain": [
              "<Figure size 1400x700 with 1 Axes>"
            ],
            "image/png": "[encoded data removed]"
          },
          "metadata": {}
        }
      ]
    },
    {
      "cell_type": "markdown",
      "source": [
        "--------------------------------------------------------------------------------\n",
        "This code performs Chi-Square tests to determine the association between various categorical features and survival ('Survived') in the train dataset. It stores the results, sorts them by p-value, and interprets whether each feature has a significant relationship with survival based on the p-value threshold of 0.05."
      ],
      "metadata": {
        "id": "1nCGye501CPs"
      }
    },
    {
      "cell_type": "code",
      "source": [
        "# Defining categorical features\n",
        "categorical_features = ['PassengerId', 'Pclass', 'Name', 'Sex', 'Age', 'SibSp', 'Parch', 'Ticket', 'Fare', 'Cabin', 'Embarked']\n",
        "\n",
        "# Storing the results of Chi-Square tests\n",
        "chi_square_results = []\n",
        "\n",
        "for feature in categorical_features:\n",
        "    contingency_table = pd.crosstab(train[feature], train['Survived'])  # Creating a contingency table\n",
        "    chi2, p, dof, ex = chi2_contingency(contingency_table)  # Performing Chi-Square test\n",
        "    chi_square_results.append((feature, chi2, p))  # Storing the feature name, Chi2 value, and p-value\n",
        "\n",
        "# Creating a DataFrame to store the results\n",
        "chi_square_df = pd.DataFrame(chi_square_results, columns=['Feature', 'Chi2', 'p-value'])\n",
        "\n",
        "# Sorting the DataFrame by p-value in descending order\n",
        "chi_square_df = chi_square_df.sort_values(by='p-value', ascending=False)\n",
        "\n",
        "# Printing the Chi-Square test results\n",
        "print(chi_square_df)\n",
        "\n",
        "# Interpreting the results\n",
        "for index, row in chi_square_df.iterrows():\n",
        "    if row['p-value'] < 0.05:\n",
        "        print(f\"There is a significant association between '{row['Feature']}' and 'Survived'.\")\n",
        "    else:\n",
        "        print(f\"There is NO significant association between '{row['Feature']}' and 'Survived'.\")"
      ],
      "metadata": {
        "colab": {
          "base_uri": "https://localhost:8080/"
        },
        "id": "k6t3b8xVOd1d",
        "outputId": "3bdcf3f7-4aed-46b7-bac5-8968476f9e29"
      },
      "execution_count": 194,
      "outputs": [
        {
          "output_type": "stream",
          "name": "stdout",
          "text": [
            "        Feature        Chi2       p-value\n",
            "0   PassengerId  891.000000  4.842482e-01\n",
            "2          Name  891.000000  4.842482e-01\n",
            "9         Cabin  161.250000  1.835735e-01\n",
            "7        Ticket  766.569703  1.152730e-02\n",
            "6         Parch   27.925784  9.703526e-05\n",
            "4           Age  230.227610  1.077741e-05\n",
            "10     Embarked   25.964453  2.300863e-06\n",
            "5         SibSp   37.271793  1.558581e-06\n",
            "8          Fare  425.808381  1.164764e-11\n",
            "1        Pclass  102.888989  4.549252e-23\n",
            "3           Sex  260.717020  1.197357e-58\n",
            "There is NO significant association between 'PassengerId' and 'Survived'.\n",
            "There is NO significant association between 'Name' and 'Survived'.\n",
            "There is NO significant association between 'Cabin' and 'Survived'.\n",
            "There is a significant association between 'Ticket' and 'Survived'.\n",
            "There is a significant association between 'Parch' and 'Survived'.\n",
            "There is a significant association between 'Age' and 'Survived'.\n",
            "There is a significant association between 'Embarked' and 'Survived'.\n",
            "There is a significant association between 'SibSp' and 'Survived'.\n",
            "There is a significant association between 'Fare' and 'Survived'.\n",
            "There is a significant association between 'Pclass' and 'Survived'.\n",
            "There is a significant association between 'Sex' and 'Survived'.\n"
          ]
        }
      ]
    },
    {
      "cell_type": "markdown",
      "source": [
        "--------------------------------------------------------------------------------\n",
        "This code performs several feature engineering tasks on the train and test datasets to enhance the predictive power of the model:\n",
        "\n",
        "- Cleanup: Drops the Age_initial column and rounds the Age values to one decimal place.\n",
        "\n",
        "- Title Extraction: Extracts titles (e.g., Mr, Mrs) from the Name column and consolidates rare titles under a single label, Rare.\n",
        "\n",
        "- Family Features: Creates FamilySize to represent the total family members on board and IsAlone to indicate whether a passenger is alone.\n",
        "\n",
        "- Fare Adjustments: Computes FarePerPerson by dividing Fare by FamilySize.\n",
        "\n",
        "- Deck Extraction: Extracts the deck information from the Cabin column.\n",
        "\n",
        "- Interaction Features: Creates interaction features Age*Class and Age*Fare to capture relationships between Age and other variables.\n",
        "\n",
        "- Age Binning: Creates AgeBand, which bins Age into five equal-sized intervals.\n",
        "\n",
        "These transformations enhance the dataset by adding new, potentially informative features that could improve the model's performance."
      ],
      "metadata": {
        "id": "mBtSL_ni1ItF"
      }
    },
    {
      "cell_type": "code",
      "source": [
        "# Dropping the 'Age_initial' column as it's no longer needed\n",
        "train = train.drop('Age_initial', axis=1)\n",
        "test = test.drop('Age_initial', axis=1)\n",
        "\n",
        "# Rounding the 'Age' values to one decimal place\n",
        "train['Age'] = train['Age'].round(1)\n",
        "test['Age'] = test['Age'].round(1)\n",
        "\n",
        "# Extracting 'Title' from the 'Name' column (e.g., Mr, Mrs, Miss, etc.)\n",
        "train['Title'] = train['Name'].apply(lambda x: x.split(', ')[1].split('.')[0])\n",
        "test['Title'] = test['Name'].apply(lambda x: x.split(', ')[1].split('.')[0])\n",
        "\n",
        "# Replacing rare titles with the label 'Rare'\n",
        "rare_titles = ['Lady', 'Countess', 'Capt', 'Col', 'Don', 'Dr', 'Major', 'Rev', 'Sir', 'Jonkheer', 'Dona']\n",
        "train['Title'] = train['Title'].replace(rare_titles, 'Rare')\n",
        "test['Title'] = test['Title'].replace(rare_titles, 'Rare')\n",
        "\n",
        "# Creating 'FamilySize' feature as the sum of 'SibSp' (siblings/spouses) and 'Parch' (parents/children) plus 1 (for the individual)\n",
        "train['FamilySize'] = train['SibSp'] + train['Parch'] + 1\n",
        "test['FamilySize'] = test['SibSp'] + test['Parch'] + 1\n",
        "\n",
        "# Creating 'IsAlone' feature: 1 if the passenger is alone, 0 otherwise\n",
        "train['IsAlone'] = 0  # Initially set to 0\n",
        "train.loc[train['FamilySize'] == 1, 'IsAlone'] = 1  # Set to 1 if FamilySize is 1\n",
        "\n",
        "test['IsAlone'] = 0  # Initially set to 0\n",
        "test.loc[test['FamilySize'] == 1, 'IsAlone'] = 1  # Set to 1 if FamilySize is 1\n",
        "\n",
        "# Creating 'FarePerPerson' feature by dividing the 'Fare' by 'FamilySize'\n",
        "train['FarePerPerson'] = train['Fare'] / train['FamilySize']\n",
        "test['FarePerPerson'] = test['Fare'] / test['FamilySize']\n",
        "\n",
        "# Extracting the 'Deck' from the 'Cabin' column (first letter of the cabin number) or assigning NaN if 'Cabin' is missing\n",
        "train['Deck'] = train['Cabin'].apply(lambda x: x[0] if pd.notnull(x) else np.nan)\n",
        "test['Deck'] = test['Cabin'].apply(lambda x: x[0] if pd.notnull(x) else np.nan)\n",
        "\n",
        "# Creating 'Age*Class' feature by multiplying 'Age' by 'Pclass'\n",
        "train['Age*Class'] = train['Age'] * train['Pclass']\n",
        "test['Age*Class'] = test['Age'] * test['Pclass']\n",
        "\n",
        "# Creating 'Age*Fare' feature by multiplying 'Age' by 'Fare'\n",
        "train['Age*Fare'] = train['Age'] * train['Fare']\n",
        "test['Age*Fare'] = test['Age'] * test['Fare']\n",
        "\n",
        "# Creating 'AgeBand' feature by binning 'Age' into 5 equal-sized intervals\n",
        "train['AgeBand'] = pd.cut(train['Age'], 5)\n",
        "test['AgeBand'] = pd.cut(test['Age'], 5)"
      ],
      "metadata": {
        "id": "tqD6c5I9wi9F"
      },
      "execution_count": 195,
      "outputs": []
    },
    {
      "cell_type": "markdown",
      "source": [
        "--------------------------------------------------------------------------------\n",
        "This code extracts and prints the unique values present in the 'Deck' column of the train dataset, allowing you to see the distinct deck identifiers or any missing values (e.g., NaN) in the dataset."
      ],
      "metadata": {
        "id": "vgekvhYP1i3s"
      }
    },
    {
      "cell_type": "code",
      "source": [
        "# Extract and print the unique values in the 'Deck' column of the train dataset\n",
        "unique_values = train['Deck'].unique()\n",
        "print(unique_values)"
      ],
      "metadata": {
        "colab": {
          "base_uri": "https://localhost:8080/"
        },
        "id": "dT7PUpm34biD",
        "outputId": "65642a40-ce9a-4955-9494-4c81efec5d8a"
      },
      "execution_count": 196,
      "outputs": [
        {
          "output_type": "stream",
          "name": "stdout",
          "text": [
            "[nan 'C' 'E' 'G' 'D' 'A' 'B' 'F' 'T']\n"
          ]
        }
      ]
    },
    {
      "cell_type": "markdown",
      "source": [
        "--------------------------------------------------------------------------------\n",
        "This code creates a dictionary to map deck letters to numerical values and then applies this mapping to the 'Deck' column in both the train and test datasets, converting the deck identifiers from categorical letters to numerical values for easier analysis and modeling."
      ],
      "metadata": {
        "id": "6_BhHAAA1mkT"
      }
    },
    {
      "cell_type": "code",
      "source": [
        "# Create a mapping dictionary to convert deck letters to numerical values\n",
        "deck_mapping = {'A': 1, 'B': 2, 'C': 3, 'D': 4, 'E': 5, 'F': 6, 'G': 7, 'T': 8}\n",
        "\n",
        "# Map the 'Deck' column in the train/test dataset using the deck_mapping dictionary\n",
        "train['Deck'] = train['Deck'].map(deck_mapping)\n",
        "test['Deck'] = test['Deck'].map(deck_mapping)"
      ],
      "metadata": {
        "id": "2u6cpXHq4onx"
      },
      "execution_count": 197,
      "outputs": []
    },
    {
      "cell_type": "markdown",
      "source": [
        "--------------------------------------------------------------------------------\n",
        "This code imputes missing 'Deck' values in the train dataset using IterativeImputer with a KNeighborsRegressor. It maps the imputed numerical values back to their corresponding deck letters, checks the distribution of the imputed 'Deck' values, and visualizes this distribution to ensure that the imputation process has been applied correctly and meaningfully."
      ],
      "metadata": {
        "id": "5RgMkwqV1pEg"
      }
    },
    {
      "cell_type": "code",
      "source": [
        "# Selecting relevant features for imputation\n",
        "features_for_imputation = ['Pclass', 'Fare', 'Embarked', 'Sex', 'Age', 'Deck']\n",
        "impute_data = train[features_for_imputation]\n",
        "\n",
        "# Applying IterativeImputer using LinearRegression for imputation\n",
        "iter_imputer = IterativeImputer(estimator=KNeighborsRegressor(n_neighbors=5), max_iter=1000, random_state=42)\n",
        "imputed_data = iter_imputer.fit_transform(impute_data)\n",
        "\n",
        "# Transferring the imputed 'Deck' values back to the original train dataset\n",
        "train['Deck'] = imputed_data[:, features_for_imputation.index('Deck')].round().astype(int)\n",
        "\n",
        "# Reconverting numerical deck values back to letters (optional step)\n",
        "reverse_deck_mapping = {v: k for k, v in deck_mapping.items()}\n",
        "train['Deck'] = train['Deck'].map(reverse_deck_mapping)\n",
        "\n",
        "# Checking the distribution of imputed 'Deck' values\n",
        "print(\"Distribution of imputed 'Deck' values:\")\n",
        "print(train['Deck'].value_counts())\n",
        "\n",
        "# Visualizing the distribution of imputed 'Deck' values\n",
        "plt.figure(figsize=(14, 7))\n",
        "sns.histplot(train['Deck'], kde=False, color='red', label='Deck imputed', bins=30)\n",
        "plt.legend()\n",
        "plt.title('Distribution of Imputed Deck Values')\n",
        "plt.show()"
      ],
      "metadata": {
        "colab": {
          "base_uri": "https://localhost:8080/",
          "height": 832
        },
        "id": "BtWVC9xj7HY5",
        "outputId": "6c6ee3c2-44ef-43c2-9a7f-916e35c433ce"
      },
      "execution_count": 198,
      "outputs": [
        {
          "output_type": "stream",
          "name": "stdout",
          "text": [
            "Distribution of imputed 'Deck' values:\n",
            "Deck\n",
            "E    330\n",
            "F    194\n",
            "D    144\n",
            "C    143\n",
            "B     60\n",
            "A     15\n",
            "G      4\n",
            "T      1\n",
            "Name: count, dtype: int64\n"
          ]
        },
        {
          "output_type": "display_data",
          "data": {
            "text/plain": [
              "<Figure size 1400x700 with 1 Axes>"
            ],
            "image/png": "[encoded data removed]"
          },
          "metadata": {}
        }
      ]
    },
    {
      "cell_type": "markdown",
      "source": [
        "--------------------------------------------------------------------------------\n",
        "This code imputes missing 'Deck' values in the test dataset using IterativeImputer with a KNeighborsRegressor. It maps the imputed numerical values back to their corresponding deck letters, checks the distribution of the imputed 'Deck' values, and visualizes this distribution to ensure that the imputation process has been applied correctly and meaningfully."
      ],
      "metadata": {
        "id": "FfUh2pJp1s5E"
      }
    },
    {
      "cell_type": "code",
      "source": [
        "# Selecting relevant features for imputation\n",
        "features_for_imputation = ['Pclass', 'Fare', 'Embarked', 'Sex', 'Age', 'Deck']\n",
        "impute_data = test[features_for_imputation]\n",
        "\n",
        "# Applying IterativeImputer with KNeighborsRegressor to fill missing values\n",
        "iter_imputer = IterativeImputer(estimator=KNeighborsRegressor(n_neighbors=5), max_iter=1000, random_state=42)\n",
        "imputed_data = iter_imputer.fit_transform(impute_data)\n",
        "\n",
        "# Transferring the imputed 'Deck' values back to the original test dataset\n",
        "test['Deck'] = imputed_data[:, features_for_imputation.index('Deck')].round().astype(int)\n",
        "\n",
        "# Reverting numeric deck values back to letters (optional step)\n",
        "reverse_deck_mapping = {v: k for k, v in deck_mapping.items()}\n",
        "test['Deck'] = test['Deck'].map(reverse_deck_mapping)\n",
        "\n",
        "# Checking the distribution of imputed 'Deck' values\n",
        "print(\"Distribution of imputed 'Deck' values:\")\n",
        "print(test['Deck'].value_counts())\n",
        "\n",
        "# Visualizing the distribution of imputed 'Deck' values\n",
        "plt.figure(figsize=(14, 7))\n",
        "sns.histplot(train['Deck'], kde=False, color='red', label='Imputed Deck', bins=30)\n",
        "plt.legend()\n",
        "plt.title('Distribution of Imputed Deck Values')\n",
        "plt.show()"
      ],
      "metadata": {
        "colab": {
          "base_uri": "https://localhost:8080/",
          "height": 815
        },
        "id": "9hHE0zKW7gbJ",
        "outputId": "83b79294-3d9f-4a38-af82-44dbd3ec2e35"
      },
      "execution_count": 199,
      "outputs": [
        {
          "output_type": "stream",
          "name": "stdout",
          "text": [
            "Distribution of imputed 'Deck' values:\n",
            "Deck\n",
            "F    207\n",
            "C     80\n",
            "D     49\n",
            "B     41\n",
            "E     33\n",
            "A      7\n",
            "G      1\n",
            "Name: count, dtype: int64\n"
          ]
        },
        {
          "output_type": "display_data",
          "data": {
            "text/plain": [
              "<Figure size 1400x700 with 1 Axes>"
            ],
            "image/png": "[encoded data removed]"
          },
          "metadata": {}
        }
      ]
    },
    {
      "cell_type": "markdown",
      "source": [
        "--------------------------------------------------------------------------------\n",
        "- Avoid Zero Values in 'Fare': Small value added to 'Fare' to avoid issues with zero values when binning.\n",
        "\n",
        "- Create 'FareBand': Divides 'Fare' into four quartiles for categorization.\n",
        "\n",
        "- Create 'Child' Feature: Flags passengers under 18 as children.\n",
        "\n",
        "- Create 'Mother' Feature: Identifies female passengers over 18 with children and the title 'Mrs' as mothers.\n",
        "\n",
        "- Create 'CabinBool' Feature: Flags passengers with a cabin number.\n",
        "\n",
        "- Create 'TicketFreq' Feature: Counts the frequency of each ticket number in the dataset.\n",
        "\n",
        "- Create 'InGroup' Feature: Flags passengers traveling with family or having a shared ticket as being in a group."
      ],
      "metadata": {
        "id": "cs7sZ88w1v0P"
      }
    },
    {
      "cell_type": "code",
      "source": [
        "# Adding a small value to 'Fare' to avoid issues with zero values when creating bins\n",
        "train['Fare'] = train['Fare'] + 0.001\n",
        "test['Fare'] = test['Fare'] + 0.001\n",
        "\n",
        "# Creating 'FareBand' by dividing 'Fare' into four equal-sized bins (quartiles)\n",
        "train['FareBand'] = pd.qcut(train['Fare'], 4)\n",
        "test['FareBand'] = pd.qcut(test['Fare'], 4)\n",
        "\n",
        "# Creating 'Child' feature: 1 if the passenger is under 18, 0 otherwise\n",
        "train['Child'] = (train['Age'] < 18).astype(int)\n",
        "test['Child'] = (test['Age'] < 18).astype(int)\n",
        "\n",
        "# Creating 'Mother' feature: 1 if the passenger is a female (Sex=1), over 18, has children (Parch > 0), and the title is 'Mrs'\n",
        "train['Mother'] = ((train['Sex'] == 1) & (train['Age'] > 18) & (train['Parch'] > 0) & (train['Title'] == 'Mrs')).astype(int)\n",
        "test['Mother'] = ((test['Sex'] == 1) & (test['Age'] > 18) & (test['Parch'] > 0) & (test['Title'] == 'Mrs')).astype(int)\n",
        "\n",
        "# Creating 'CabinBool' feature: 1 if the passenger has a cabin number, 0 otherwise\n",
        "train['CabinBool'] = train['Cabin'].notnull().astype(int)\n",
        "test['CabinBool'] = test['Cabin'].notnull().astype(int)\n",
        "\n",
        "# Creating 'TicketFreq' feature that counts the frequency of each ticket number in the dataset\n",
        "train['TicketFreq'] = train.groupby('Ticket')['Ticket'].transform('count')\n",
        "test['TicketFreq'] = test.groupby('Ticket')['Ticket'].transform('count')\n",
        "\n",
        "# Creating 'InGroup' feature: 1 if the passenger is traveling with family (SibSp + Parch > 0) or has a shared ticket (TicketFreq > 1), 0 otherwise\n",
        "train['InGroup'] = ((train['SibSp'] + train['Parch'] > 0) | (train['TicketFreq'] > 1)).astype(int)\n",
        "test['InGroup'] = ((test['SibSp'] + test['Parch'] > 0) | (test['TicketFreq'] > 1)).astype(int)"
      ],
      "metadata": {
        "id": "Om4FjCs89d4Q"
      },
      "execution_count": 200,
      "outputs": []
    },
    {
      "cell_type": "markdown",
      "source": [
        "--------------------------------------------------------------------------------\n",
        "Removes the 'PassengerId', 'Ticket', 'Cabin', and 'Name' columns from both the train and test datasets."
      ],
      "metadata": {
        "id": "0T98J8Y72AYN"
      }
    },
    {
      "cell_type": "code",
      "source": [
        "# Specify the columns to be dropped\n",
        "columns_to_drop_train = ['PassengerId', 'Ticket', 'Cabin', 'Name']\n",
        "columns_to_drop_test = ['Ticket', 'Cabin', 'Name']\n",
        "\n",
        "# Drop the specified columns from the train dataset\n",
        "train = train.drop(columns=columns_to_drop_train)\n",
        "\n",
        "# Drop the specified columns from the test dataset\n",
        "test = test.drop(columns=columns_to_drop_test)"
      ],
      "metadata": {
        "id": "4Jk-V8VmBR11"
      },
      "execution_count": 201,
      "outputs": []
    },
    {
      "cell_type": "markdown",
      "source": [
        "--------------------------------------------------------------------------------\n",
        "Converts categorical features 'Title', 'Deck', 'AgeBand', and 'FareBand' into numerical values for both train and test datasets using LabelEncoder."
      ],
      "metadata": {
        "id": "J-hvgMBX2C8a"
      }
    },
    {
      "cell_type": "code",
      "source": [
        "# Label Encoding for 'Title'\n",
        "label_encoder_title = LabelEncoder()\n",
        "train['Title'] = label_encoder_title.fit_transform(train['Title'])\n",
        "test['Title'] = label_encoder_title.fit_transform(test['Title'])\n",
        "\n",
        "# Label Encoding for 'Deck'\n",
        "label_encoder_deck = LabelEncoder()\n",
        "train['Deck'] = label_encoder_deck.fit_transform(train['Deck'])\n",
        "test['Deck'] = label_encoder_deck.fit_transform(test['Deck'])\n",
        "\n",
        "# Label Encoding for 'AgeBand'\n",
        "label_encoder_ageband = LabelEncoder()\n",
        "train['AgeBand'] = label_encoder_ageband.fit_transform(train['AgeBand'])\n",
        "test['AgeBand'] = label_encoder_ageband.fit_transform(test['AgeBand'])\n",
        "\n",
        "# Label Encoding for 'FareBand'\n",
        "label_encoder_fareband = LabelEncoder()\n",
        "train['FareBand'] = label_encoder_fareband.fit_transform(train['FareBand'])\n",
        "test['FareBand'] = label_encoder_fareband.fit_transform(test['FareBand'])"
      ],
      "metadata": {
        "id": "dVXxYC2aB8S3"
      },
      "execution_count": 202,
      "outputs": []
    },
    {
      "cell_type": "markdown",
      "source": [
        "--------------------------------------------------------------------------------\n",
        "Computes and sorts the absolute correlation values of all numerical variables with the 'Survived' variable, providing insights into which features have the strongest relationship with survival."
      ],
      "metadata": {
        "id": "STCS3O6K2HPy"
      }
    },
    {
      "cell_type": "code",
      "source": [
        "# Calculate the correlation matrix for all numerical variables\n",
        "correlation_matrix = train.corr()\n",
        "\n",
        "# Select the correlation values for the 'Survived' variable\n",
        "correlation_with_survived = correlation_matrix['Survived']\n",
        "\n",
        "# Sort the correlation values in descending order, excluding 'Survived' itself\n",
        "correlation_with_survived_sorted = correlation_with_survived.drop('Survived').abs().sort_values(ascending=False)\n",
        "\n",
        "# Display the sorted correlation values\n",
        "print(correlation_with_survived_sorted)"
      ],
      "metadata": {
        "colab": {
          "base_uri": "https://localhost:8080/"
        },
        "id": "ULQJJ7SPANrX",
        "outputId": "4d71cf1a-d593-4e6f-fd9f-724dfe8f02e1"
      },
      "execution_count": 203,
      "outputs": [
        {
          "output_type": "stream",
          "name": "stdout",
          "text": [
            "Sex              0.543351\n",
            "Age*Class        0.355694\n",
            "Pclass           0.338481\n",
            "CabinBool        0.316912\n",
            "FareBand         0.299357\n",
            "Fare             0.257307\n",
            "InGroup          0.241717\n",
            "FarePerPerson    0.221600\n",
            "Title            0.220621\n",
            "Age*Fare         0.219385\n",
            "IsAlone          0.203367\n",
            "Mother           0.167063\n",
            "Child            0.134174\n",
            "Deck             0.110438\n",
            "Embarked         0.106811\n",
            "Age              0.093245\n",
            "Parch            0.081629\n",
            "AgeBand          0.068268\n",
            "TicketFreq       0.038247\n",
            "SibSp            0.035322\n",
            "FamilySize       0.016639\n",
            "Name: Survived, dtype: float64\n"
          ]
        }
      ]
    },
    {
      "cell_type": "markdown",
      "source": [
        "--------------------------------------------------------------------------------\n",
        "Creates a duplicate of the train dataset to preserve the original data for any future reference or modifications."
      ],
      "metadata": {
        "id": "6u1qaicG2Rk2"
      }
    },
    {
      "cell_type": "code",
      "source": [
        "# Create a copy of the train/test dataset to preserve the original data\n",
        "train_copy = train.copy()\n",
        "test_copy = test.copy()"
      ],
      "metadata": {
        "id": "IgW2o6oOS8wJ"
      },
      "execution_count": 204,
      "outputs": []
    },
    {
      "cell_type": "markdown",
      "source": [
        "--------------------------------------------------------------------------------\n",
        "Applies Min-Max scaling to the specified columns in train_copy to normalize their values within a range of 0 to 1, and displays the first few rows to verify the results."
      ],
      "metadata": {
        "id": "OOuD2Fm12TW4"
      }
    },
    {
      "cell_type": "code",
      "source": [
        "# Select the columns you want to standardize\n",
        "attributes_to_standardize = ['Age', 'Fare', 'FarePerPerson', 'Age*Class', 'Age*Fare']\n",
        "\n",
        "# Initialize the StandardScaler\n",
        "scaler = MinMaxScaler()\n",
        "\n",
        "# Apply standardization only on the selected columns\n",
        "train_copy[attributes_to_standardize] = scaler.fit_transform(train_copy[attributes_to_standardize])\n",
        "test_copy[attributes_to_standardize] = scaler.fit_transform(test_copy[attributes_to_standardize])\n",
        "\n",
        "\n",
        "# Check the result of the standardization by printing the first few rows of the standardized columns\n",
        "print(train_copy[attributes_to_standardize].head())\n",
        "print()\n",
        "print(test_copy[attributes_to_standardize].head())"
      ],
      "metadata": {
        "colab": {
          "base_uri": "https://localhost:8080/"
        },
        "id": "F9rjNPaPTARC",
        "outputId": "20719d1a-621f-4e8f-9f3c-44ff0f1efd8c"
      },
      "execution_count": 205,
      "outputs": [
        {
          "output_type": "stream",
          "name": "stdout",
          "text": [
            "        Age      Fare  FarePerPerson  Age*Class  Age*Fare\n",
            "0  0.271357  0.014151       0.007076   0.294437  0.008648\n",
            "1  0.472362  0.139136       0.069568   0.167797  0.146865\n",
            "2  0.321608  0.015469       0.015469   0.348711  0.011172\n",
            "3  0.434673  0.103644       0.051822   0.154229  0.100765\n",
            "4  0.434673  0.015713       0.015713   0.470828  0.015276\n",
            "\n",
            "        Age      Fare  FarePerPerson  Age*Class  Age*Fare\n",
            "0  0.452507  0.015282       0.029840   0.568823  0.009090\n",
            "1  0.617414  0.013663       0.013340   0.776119  0.011072\n",
            "2  0.815303  0.018909       0.036922   0.682145  0.020213\n",
            "3  0.353562  0.016908       0.033016   0.444444  0.007871\n",
            "4  0.287599  0.023984       0.015611   0.361526  0.009097\n"
          ]
        }
      ]
    },
    {
      "cell_type": "markdown",
      "source": [
        "--------------------------------------------------------------------------------\n",
        "Uses Recursive Feature Elimination (RFE) with a GradientBoostingClassifier to identify and select the top 15 features from X_train. Updates the training and testing datasets to include only these selected features."
      ],
      "metadata": {
        "id": "7etaC8Mo2Xr9"
      }
    },
    {
      "cell_type": "code",
      "source": [
        "# Separating the predictor variables (features) from the target variable (Survived)\n",
        "X = train_copy.drop('Survived', axis=1)\n",
        "y = train_copy['Survived']\n",
        "\n",
        "# Splitting the data into training and testing sets (80% train, 20% test)\n",
        "X_train, X_test, y_train, y_test = train_test_split(X, y, test_size=0.2, random_state=42)\n",
        "\n",
        "# Initialize the base model for RFE\n",
        "base_model_for_rfe = GradientBoostingClassifier(random_state=42)\n",
        "\n",
        "# Create the RFE object and select top 'n' features\n",
        "rfe = RFE(estimator=base_model_for_rfe, n_features_to_select=15, step=1)\n",
        "\n",
        "# Fit RFE on the training data\n",
        "rfe.fit(X_train, y_train)\n",
        "\n",
        "# Select the features that were chosen by RFE\n",
        "selected_features = X_train.columns[rfe.support_]\n",
        "print(\"Selected Features by RFE:\", selected_features)\n",
        "\n",
        "# Update X_train and X_test to contain only the selected features\n",
        "X_train_rfe = X_train[selected_features]\n",
        "X_test_rfe = X_test[selected_features]"
      ],
      "metadata": {
        "colab": {
          "base_uri": "https://localhost:8080/"
        },
        "id": "truiTlXEiYxV",
        "outputId": "1858b3d2-0cca-44d8-a073-7340708b8ae7"
      },
      "execution_count": 206,
      "outputs": [
        {
          "output_type": "stream",
          "name": "stdout",
          "text": [
            "Selected Features by RFE: Index(['Pclass', 'Sex', 'Age', 'SibSp', 'Fare', 'Embarked', 'Title',\n",
            "       'FamilySize', 'FarePerPerson', 'Deck', 'Age*Class', 'Age*Fare',\n",
            "       'AgeBand', 'CabinBool', 'TicketFreq'],\n",
            "      dtype='object')\n"
          ]
        }
      ]
    },
    {
      "cell_type": "markdown",
      "source": [
        "--------------------------------------------------------------------------------\n",
        "Trains and evaluates various classifiers, including Decision Tree, Random Forest, XGBoost, Gradient Boosting, AdaBoost, CatBoost, and Extra Trees, on features selected by RFE. Reports the accuracy of each model and identifies the best-performing one."
      ],
      "metadata": {
        "id": "aev_jCR32bLk"
      }
    },
    {
      "cell_type": "code",
      "source": [
        "# Initializing various machine learning models\n",
        "models = {\n",
        "    'Decision Tree': DecisionTreeClassifier(random_state=42),\n",
        "    'Random Forest': RandomForestClassifier(random_state=42),\n",
        "    'XGBoost': xgb.XGBClassifier(eval_metric='logloss', random_state=42),\n",
        "    'Gradient Boosting': GradientBoostingClassifier(random_state=42),\n",
        "    'AdaBoost': AdaBoostClassifier(random_state=42),\n",
        "    'CatBoost': CatBoostClassifier(verbose=0, random_state=42),\n",
        "    'Extra Trees': ExtraTreesClassifier(random_state=42)\n",
        "}\n",
        "\n",
        "# Training and evaluating each model with the features selected by RFE\n",
        "model_accuracies = {}\n",
        "\n",
        "for model_name, model in models.items():\n",
        "    model.fit(X_train_rfe, y_train)\n",
        "    y_pred = model.predict(X_test_rfe)\n",
        "    accuracy = accuracy_score(y_test, y_pred)\n",
        "    model_accuracies[model_name] = accuracy\n",
        "    print(f\"{model_name}: Accuracy is {accuracy:.4f}\")\n",
        "\n",
        "# Identifying the best model based on accuracy\n",
        "best_model = max(model_accuracies, key=model_accuracies.get)\n",
        "print(f\"\\nThe best model is {best_model} with an accuracy of {model_accuracies[best_model]:.4f}\")"
      ],
      "metadata": {
        "colab": {
          "base_uri": "https://localhost:8080/"
        },
        "id": "u_tFpPyCJJj7",
        "outputId": "4e6dc17e-e5d8-4f2c-bce0-e434fdc262b0"
      },
      "execution_count": 207,
      "outputs": [
        {
          "output_type": "stream",
          "name": "stdout",
          "text": [
            "Decision Tree: Accuracy is 0.7709\n",
            "Random Forest: Accuracy is 0.8324\n",
            "XGBoost: Accuracy is 0.8045\n",
            "Gradient Boosting: Accuracy is 0.8771\n",
            "AdaBoost: Accuracy is 0.7989\n",
            "CatBoost: Accuracy is 0.8603\n",
            "Extra Trees: Accuracy is 0.8212\n",
            "\n",
            "The best model is Gradient Boosting with an accuracy of 0.8771\n"
          ]
        }
      ]
    },
    {
      "cell_type": "markdown",
      "source": [
        "--------------------------------------------------------------------------------\n",
        "Trains a DecisionTreeClassifier with tuned hyperparameters on the selected features, evaluates it on the test set, and prints the accuracy."
      ],
      "metadata": {
        "id": "4jpUBq7R2fIR"
      }
    },
    {
      "cell_type": "code",
      "source": [
        "# Initialize DecisionTreeClassifier with optimized hyperparameters\n",
        "optimized_dt_model = DecisionTreeClassifier(\n",
        "    criterion='gini',\n",
        "    splitter='best',\n",
        "    max_depth=4,\n",
        "    min_samples_split=2,\n",
        "    min_samples_leaf=3,\n",
        "    random_state=42\n",
        ")\n",
        "\n",
        "# Train the optimized model on the training set\n",
        "optimized_dt_model.fit(X_train_rfe, y_train)\n",
        "\n",
        "# Make predictions on the test set\n",
        "y_pred_optimized_dt = optimized_dt_model.predict(X_test_rfe)\n",
        "\n",
        "# Calculate the accuracy of the optimized model\n",
        "accuracy_optimized_dt = accuracy_score(y_test, y_pred_optimized_dt)\n",
        "print(f\"Optimized Decision Tree: Accuracy is {accuracy_optimized_dt:.4f}\")"
      ],
      "metadata": {
        "colab": {
          "base_uri": "https://localhost:8080/"
        },
        "id": "uGSbiBwNtS9f",
        "outputId": "8a3762a7-9352-4083-85bf-72dba8190f88"
      },
      "execution_count": 208,
      "outputs": [
        {
          "output_type": "stream",
          "name": "stdout",
          "text": [
            "Optimized Decision Tree: Accuracy is 0.8603\n"
          ]
        }
      ]
    },
    {
      "cell_type": "markdown",
      "source": [
        "--------------------------------------------------------------------------------\n",
        "Configures and trains an XGBClassifier with fine-tuned hyperparameters, evaluates its performance on the test set, and reports the accuracy."
      ],
      "metadata": {
        "id": "YjRBevUq2h1O"
      }
    },
    {
      "cell_type": "code",
      "source": [
        "# Initialize XGBClassifier with optimized hyperparameters\n",
        "optimized_xgb_model = xgb.XGBClassifier(\n",
        "    learning_rate=0.4,\n",
        "    gamma=0.4,\n",
        "    max_depth=4,\n",
        "    reg_lambda=0,\n",
        "    reg_alpha=0.1,\n",
        "    eval_metric='logloss',  # Specify an evaluation metric\n",
        "    objective='binary:logistic',  # Specify the objective for binary classification\n",
        "    random_state=42\n",
        ")\n",
        "\n",
        "# Train the optimized model on the training set\n",
        "optimized_xgb_model.fit(X_train_rfe, y_train)\n",
        "\n",
        "# Make predictions on the test set\n",
        "y_pred_optimized_xgb = optimized_xgb_model.predict(X_test_rfe)\n",
        "\n",
        "# Calculate the accuracy of the optimized model\n",
        "accuracy_optimized_xgb = accuracy_score(y_test, y_pred_optimized_xgb)\n",
        "print(f\"Optimized XGBoost: Accuracy is {accuracy_optimized_xgb:.4f}\")"
      ],
      "metadata": {
        "colab": {
          "base_uri": "https://localhost:8080/"
        },
        "id": "wOOylPp7t6BJ",
        "outputId": "ccb9337b-6c76-41f6-a7bc-6138c6c53b2f"
      },
      "execution_count": 209,
      "outputs": [
        {
          "output_type": "stream",
          "name": "stdout",
          "text": [
            "Optimized XGBoost: Accuracy is 0.8380\n"
          ]
        }
      ]
    },
    {
      "cell_type": "markdown",
      "source": [
        "--------------------------------------------------------------------------------\n",
        "Configures and trains an LGBMClassifier with tuned hyperparameters and specific settings to reduce warnings, then evaluates its accuracy on the test set."
      ],
      "metadata": {
        "id": "LNcImskq2lNd"
      }
    },
    {
      "cell_type": "code",
      "source": [
        "# Initialize LGBMClassifier with optimized hyperparameters and without warnings\n",
        "optimized_lgbm_model = LGBMClassifier(\n",
        "    boosting_type='dart',\n",
        "    num_leaves=8,\n",
        "    learning_rate=0.1,\n",
        "    n_estimators=100,\n",
        "    reg_alpha=1,\n",
        "    reg_lambda=1,\n",
        "    random_state=42,\n",
        "    force_row_wise=True,  # Eliminates tests related to multi-threading\n",
        "    verbose=-1            # Disables informational messages\n",
        ")\n",
        "\n",
        "# Train the optimized model on the training set\n",
        "optimized_lgbm_model.fit(X_train_rfe, y_train)\n",
        "\n",
        "# Make predictions on the test set\n",
        "y_pred_optimized_lgbm = optimized_lgbm_model.predict(X_test_rfe)\n",
        "\n",
        "# Calculate the accuracy of the optimized model\n",
        "accuracy_optimized_lgbm = accuracy_score(y_test, y_pred_optimized_lgbm)\n",
        "print(f\"Optimized LGBM: Accuracy is {accuracy_optimized_lgbm:.4f}\")"
      ],
      "metadata": {
        "colab": {
          "base_uri": "https://localhost:8080/"
        },
        "id": "nPP44CjTuGyg",
        "outputId": "4b25a97a-439f-4496-d89c-4161d2fa710a"
      },
      "execution_count": 210,
      "outputs": [
        {
          "output_type": "stream",
          "name": "stdout",
          "text": [
            "Optimized LGBM: Accuracy is 0.8380\n"
          ]
        }
      ]
    },
    {
      "cell_type": "markdown",
      "source": [
        "--------------------------------------------------------------------------------\n",
        "Trains a GradientBoostingClassifier on the training set, measures accuracy on both training and test sets, and checks for overfitting by comparing these accuracies."
      ],
      "metadata": {
        "id": "W0IIy6KF2n5-"
      }
    },
    {
      "cell_type": "code",
      "source": [
        "# Training the model on the training set\n",
        "model = GradientBoostingClassifier(random_state=42)  # You can replace this with your model\n",
        "model.fit(X_train_rfe, y_train)\n",
        "\n",
        "# Accuracy on the training set\n",
        "train_accuracy = model.score(X_train_rfe, y_train)\n",
        "print(f\"Training set accuracy: {train_accuracy:.4f}\")\n",
        "\n",
        "# Accuracy on the test set\n",
        "test_accuracy = model.score(X_test_rfe, y_test)\n",
        "print(f\"Test set accuracy: {test_accuracy:.4f}\")\n",
        "\n",
        "# Checking the difference between training and test accuracy\n",
        "accuracy_difference = train_accuracy - test_accuracy\n",
        "print(f\"Difference between training and test accuracy: {accuracy_difference:.4f}\")\n",
        "\n",
        "if accuracy_difference > 0.1:  # Typically, a difference greater than 10% indicates overfitting\n",
        "    print(\"The model may be suffering from overfitting.\")\n",
        "else:\n",
        "    print(\"There is no significant overfitting.\")"
      ],
      "metadata": {
        "colab": {
          "base_uri": "https://localhost:8080/"
        },
        "id": "RboxfYdxoR5C",
        "outputId": "dcd9bd99-01ee-4800-fbfa-caebb09f334d"
      },
      "execution_count": 211,
      "outputs": [
        {
          "output_type": "stream",
          "name": "stdout",
          "text": [
            "Training set accuracy: 0.9185\n",
            "Test set accuracy: 0.8771\n",
            "Difference between training and test accuracy: 0.0414\n",
            "There is no significant overfitting.\n"
          ]
        }
      ]
    },
    {
      "cell_type": "markdown",
      "source": [
        "--------------------------------------------------------------------------------\n",
        "Performs 5-fold cross-validation on a GradientBoostingClassifier to assess its performance. Displays fold-wise scores, average accuracy, and standard deviation to check the model’s stability."
      ],
      "metadata": {
        "id": "Hxuapv3y2sxM"
      }
    },
    {
      "cell_type": "code",
      "source": [
        "# Choose the model - for example, Gradient Boosting\n",
        "model = GradientBoostingClassifier(random_state=42)  # You can replace this with your model\n",
        "\n",
        "# Apply cross-validation with 5 folds\n",
        "cv_scores = cross_val_score(model, X_train_rfe, y_train, cv=5, scoring='accuracy')\n",
        "\n",
        "# Display scores for each fold and the average score\n",
        "print(f\"Cross-validation scores for each fold: {cv_scores}\")\n",
        "print(f\"Average score: {cv_scores.mean():.4f}\")\n",
        "print(f\"Standard deviation: {cv_scores.std():.4f}\")\n",
        "\n",
        "# If the variation between scores is large, the model may not be stable.\n",
        "if cv_scores.std() > 0.05:  # A high standard deviation may indicate generalization issues\n",
        "    print(\"The model may have stability issues between folds.\")\n",
        "else:\n",
        "    print(\"The model is stable across folds.\")"
      ],
      "metadata": {
        "colab": {
          "base_uri": "https://localhost:8080/"
        },
        "id": "4vRpI9m0omGs",
        "outputId": "6e9b7cf8-89f1-40d0-a175-8e4a2295bab9"
      },
      "execution_count": 212,
      "outputs": [
        {
          "output_type": "stream",
          "name": "stdout",
          "text": [
            "Cross-validation scores for each fold: [0.8041958  0.86013986 0.8028169  0.81690141 0.81690141]\n",
            "Average score: 0.8202\n",
            "Standard deviation: 0.0209\n",
            "The model is stable across folds.\n"
          ]
        }
      ]
    },
    {
      "cell_type": "markdown",
      "source": [
        "--------------------------------------------------------------------------------\n",
        "Compares Logistic Regression, SVM, and KNN models based on their accuracy scores on the test set. Identifies and reports the best-performing model."
      ],
      "metadata": {
        "id": "5MYUDPyW2yMt"
      }
    },
    {
      "cell_type": "code",
      "source": [
        "# Initializing various machine learning models\n",
        "models = {\n",
        "    'Logistic Regression': LogisticRegression(max_iter=1000, random_state=42),\n",
        "    'SVM': SVC(random_state=42),\n",
        "    'KNN': KNeighborsClassifier()\n",
        "}\n",
        "\n",
        "# Training and evaluating each model with the features selected by RFE\n",
        "model_accuracies = {}\n",
        "\n",
        "for model_name, model in models.items():\n",
        "    model.fit(X_train_rfe, y_train)\n",
        "    y_pred = model.predict(X_test_rfe)\n",
        "    accuracy = accuracy_score(y_test, y_pred)\n",
        "    model_accuracies[model_name] = accuracy\n",
        "    print(f\"{model_name}: Accuracy is {accuracy:.4f}\")\n",
        "\n",
        "# Identifying the best model based on accuracy\n",
        "best_model = max(model_accuracies, key=model_accuracies.get)\n",
        "print(f\"\\nThe best model is {best_model} with an accuracy of {model_accuracies[best_model]:.4f}\")"
      ],
      "metadata": {
        "colab": {
          "base_uri": "https://localhost:8080/"
        },
        "id": "FYv9CC0XI4Fz",
        "outputId": "0e584c3a-eeec-43dc-b246-219c2c1848bf"
      },
      "execution_count": 213,
      "outputs": [
        {
          "output_type": "stream",
          "name": "stdout",
          "text": [
            "Logistic Regression: Accuracy is 0.8156\n",
            "SVM: Accuracy is 0.8212\n",
            "KNN: Accuracy is 0.8156\n",
            "\n",
            "The best model is SVM with an accuracy of 0.8212\n"
          ]
        }
      ]
    },
    {
      "cell_type": "markdown",
      "source": [
        "--------------------------------------------------------------------------------\n",
        "The code evaluates a VotingClassifier with both soft and hard voting strategies:\n",
        "\n",
        "- Soft Voting: Uses model probabilities to make predictions and weights models according to their importance. Achieved accuracy is printed.\n",
        "\n",
        "- Hard Voting: Uses majority voting to make predictions with model weights. Achieved accuracy is printed.\n",
        "\n",
        "The voting classifiers combine predictions from Random Forest, Gradient Boosting, and CatBoost models, with Gradient Boosting receiving the highest weight."
      ],
      "metadata": {
        "id": "EdHZ-GsI201-"
      }
    },
    {
      "cell_type": "code",
      "source": [
        "# Initialize the models (including all models from the previous code)\n",
        "models = [\n",
        "    ('random_forest', RandomForestClassifier(random_state=42)),\n",
        "    ('gradient_boosting', GradientBoostingClassifier(random_state=42)),\n",
        "    ('catboost', CatBoostClassifier(verbose=0, random_state=42))\n",
        "]\n",
        "\n",
        "# Assigning weights to the models, giving more weight to gradient boosting\n",
        "weights = [1, 2.5, 1]\n",
        "\n",
        "# Voting Classifier with soft voting\n",
        "voting_clf_soft = VotingClassifier(estimators=models, voting='soft', weights=weights)\n",
        "voting_clf_soft.fit(X_train_rfe, y_train)\n",
        "y_pred_soft = voting_clf_soft.predict(X_test_rfe)\n",
        "accuracy_soft = accuracy_score(y_test, y_pred_soft)\n",
        "print(f\"Soft Voting Classifier with weights: Accuracy is {accuracy_soft:.4f}\")\n",
        "\n",
        "# Voting Classifier with hard voting\n",
        "voting_clf_hard = VotingClassifier(estimators=models, voting='hard', weights=weights)\n",
        "voting_clf_hard.fit(X_train_rfe, y_train)\n",
        "y_pred_hard = voting_clf_hard.predict(X_test_rfe)\n",
        "accuracy_hard = accuracy_score(y_test, y_pred_hard)\n",
        "print(f\"Hard Voting Classifier with weights: Accuracy is {accuracy_hard:.4f}\")"
      ],
      "metadata": {
        "colab": {
          "base_uri": "https://localhost:8080/"
        },
        "id": "l-G0CwJ-K5vS",
        "outputId": "afc1f36f-c957-459a-c2bd-63707b519060"
      },
      "execution_count": 214,
      "outputs": [
        {
          "output_type": "stream",
          "name": "stdout",
          "text": [
            "Soft Voting Classifier with weights: Accuracy is 0.8827\n",
            "Hard Voting Classifier with weights: Accuracy is 0.8771\n"
          ]
        }
      ]
    },
    {
      "cell_type": "markdown",
      "source": [
        "--------------------------------------------------------------------------------\n",
        "The code initializes a stacking classifier with four base models: RandomForest, XGBoost, GradientBoosting, and CatBoost, and uses Logistic Regression as the meta-model. It then trains the stacking classifier on the training data and evaluates its performance on the test set, printing the accuracy of the model."
      ],
      "metadata": {
        "id": "Q8LwnWzP28eY"
      }
    },
    {
      "cell_type": "code",
      "source": [
        "# Initializing the base models (including all models from the previous examples)\n",
        "base_models = [\n",
        "    ('random_forest', RandomForestClassifier(random_state=42)),\n",
        "    ('xgboost', xgb.XGBClassifier(eval_metric='logloss', random_state=42)),\n",
        "    ('gradient_boosting', GradientBoostingClassifier(random_state=42)),\n",
        "    ('catboost', CatBoostClassifier(verbose=0, random_state=42))\n",
        "]\n",
        "\n",
        "# Meta-model (usually a simple model like logistic regression)\n",
        "meta_model = LogisticRegression(max_iter=1000, random_state=42)\n",
        "\n",
        "# Stacking Classifier\n",
        "stacking_clf = StackingClassifier(estimators=base_models, final_estimator=meta_model, cv=5)\n",
        "\n",
        "# Training and evaluating the model\n",
        "stacking_clf.fit(X_train_rfe, y_train)\n",
        "y_pred = stacking_clf.predict(X_test_rfe)\n",
        "accuracy = accuracy_score(y_test, y_pred)\n",
        "print(f\"Stacking Classifier: Accuracy is {accuracy:.4f}\")"
      ],
      "metadata": {
        "colab": {
          "base_uri": "https://localhost:8080/"
        },
        "id": "7chmbEkOLD_z",
        "outputId": "657440eb-fa86-466a-e2a8-05d28c967e8a"
      },
      "execution_count": 215,
      "outputs": [
        {
          "output_type": "stream",
          "name": "stdout",
          "text": [
            "Stacking Classifier: Accuracy is 0.8715\n"
          ]
        }
      ]
    },
    {
      "cell_type": "markdown",
      "source": [
        "--------------------------------------------------------------------------------\n",
        "This section evaluates the performance of the Soft Voting Classifier using various metrics,\n",
        "including accuracy, precision, recall, F1 score, and ROC AUC score. It also visualizes the\n",
        "confusion matrix and ROC curve to provide insights into the classifier's predictive capabilities."
      ],
      "metadata": {
        "id": "rvMR5j5yVTHZ"
      }
    },
    {
      "cell_type": "code",
      "source": [
        "# Evaluation for Soft Voting Classifier\n",
        "print(\"--- Soft Voting Classifier ---\\n\")\n",
        "\n",
        "# Confusion Matrix\n",
        "conf_matrix_soft = confusion_matrix(y_test, y_pred_soft)\n",
        "print(\"Confusion Matrix:\")\n",
        "print(conf_matrix_soft)\n",
        "\n",
        "# Classification Report\n",
        "class_report_soft = classification_report(y_test, y_pred_soft)\n",
        "print(\"\\nClassification Report:\")\n",
        "print(class_report_soft)\n",
        "\n",
        "# Calculate additional metrics\n",
        "accuracy_soft = accuracy_score(y_test, y_pred_soft)\n",
        "precision_soft = precision_score(y_test, y_pred_soft)\n",
        "recall_soft = recall_score(y_test, y_pred_soft)\n",
        "f1_soft = f1_score(y_test, y_pred_soft)\n",
        "roc_auc_soft = roc_auc_score(y_test, voting_clf_soft.predict_proba(X_test_rfe)[:, 1])\n",
        "\n",
        "print(f\"\\nAccuracy: {accuracy_soft:.4f}\")\n",
        "print(f\"Precision: {precision_soft:.4f}\")\n",
        "print(f\"Recall: {recall_soft:.4f}\")\n",
        "print(f\"F1 Score: {f1_soft:.4f}\")\n",
        "print(f\"ROC AUC Score: {roc_auc_soft:.4f}\\n\")\n",
        "\n",
        "# Plot Confusion Matrix for Soft Voting\n",
        "plt.figure(figsize=(8, 6))\n",
        "sns.heatmap(conf_matrix_soft, annot=True, fmt='d', cmap='Blues')\n",
        "plt.title('Soft Voting Classifier - Confusion Matrix')\n",
        "plt.xlabel('Predicted')\n",
        "plt.ylabel('Actual')\n",
        "plt.show()\n",
        "print()\n",
        "\n",
        "# Plot ROC Curve for Soft Voting\n",
        "fpr_soft, tpr_soft, _ = roc_curve(y_test, voting_clf_soft.predict_proba(X_test_rfe)[:, 1])\n",
        "plt.figure(figsize=(8, 6))\n",
        "plt.plot(fpr_soft, tpr_soft, label=f'ROC Curve (AUC = {roc_auc_soft:.4f})')\n",
        "plt.plot([0, 1], [0, 1], linestyle='--')\n",
        "plt.xlabel('False Positive Rate')\n",
        "plt.ylabel('True Positive Rate')\n",
        "plt.title('Soft Voting Classifier - ROC Curve')\n",
        "plt.legend()\n",
        "plt.show()"
      ],
      "metadata": {
        "colab": {
          "base_uri": "https://localhost:8080/",
          "height": 1000
        },
        "id": "42izrB3CTVoy",
        "outputId": "e6df161d-ad9b-4693-c49d-9552a8469697"
      },
      "execution_count": 216,
      "outputs": [
        {
          "output_type": "stream",
          "name": "stdout",
          "text": [
            "--- Soft Voting Classifier ---\n",
            "\n",
            "Confusion Matrix:\n",
            "[[98  7]\n",
            " [14 60]]\n",
            "\n",
            "Classification Report:\n",
            "              precision    recall  f1-score   support\n",
            "\n",
            "           0       0.88      0.93      0.90       105\n",
            "           1       0.90      0.81      0.85        74\n",
            "\n",
            "    accuracy                           0.88       179\n",
            "   macro avg       0.89      0.87      0.88       179\n",
            "weighted avg       0.88      0.88      0.88       179\n",
            "\n",
            "\n",
            "Accuracy: 0.8827\n",
            "Precision: 0.8955\n",
            "Recall: 0.8108\n",
            "F1 Score: 0.8511\n",
            "ROC AUC Score: 0.9207\n",
            "\n"
          ]
        },
        {
          "output_type": "display_data",
          "data": {
            "text/plain": [
              "<Figure size 800x600 with 2 Axes>"
            ],
            "image/png": "[encoded data removed]"
          },
          "metadata": {}
        },
        {
          "output_type": "stream",
          "name": "stdout",
          "text": [
            "\n"
          ]
        },
        {
          "output_type": "display_data",
          "data": {
            "text/plain": [
              "<Figure size 800x600 with 1 Axes>"
            ],
            "image/png": "[encoded data removed]"
          },
          "metadata": {}
        }
      ]
    },
    {
      "cell_type": "code",
      "source": [
        "# Separate the predictor variables (features) from the target variable (Survived)\n",
        "X = train_copy.drop('Survived', axis=1)\n",
        "y = train_copy['Survived']\n",
        "\n",
        "# Initialize the base model for RFE\n",
        "base_model_for_rfe = GradientBoostingClassifier(random_state=42)\n",
        "\n",
        "# Create the RFE object and select the top 15 features\n",
        "rfe = RFE(estimator=base_model_for_rfe, n_features_to_select=15, step=1)\n",
        "rfe.fit(X, y)\n",
        "\n",
        "# Select the features chosen by RFE\n",
        "selected_features = X.columns[rfe.support_]\n",
        "print(\"Selected Features by RFE:\", selected_features)\n",
        "\n",
        "# Update X to contain only the selected features\n",
        "X_rfe = X[selected_features]\n",
        "\n",
        "# Initialize the models and the Voting Classifier with soft voting\n",
        "models = [\n",
        "    ('random_forest', RandomForestClassifier(random_state=42)),\n",
        "    ('gradient_boosting', GradientBoostingClassifier(random_state=42)),\n",
        "    ('catboost', CatBoostClassifier(verbose=0, random_state=42))\n",
        "]\n",
        "\n",
        "# Assign weights to the models, giving more weight to gradient boosting\n",
        "weights = [1, 2.5, 1]\n",
        "\n",
        "# Create and train the Voting Classifier with soft voting on the entire dataset\n",
        "voting_clf_soft_full_train = VotingClassifier(estimators=models, voting='soft', weights=weights)\n",
        "voting_clf_soft_full_train.fit(X_rfe, y)\n",
        "\n",
        "# Apply the feature selection on the test set test_copy\n",
        "test_copy_rfe = test_copy[selected_features]\n",
        "\n",
        "# Make predictions on the entire test set\n",
        "final_predictions = voting_clf_soft_full_train.predict(test_copy_rfe)\n",
        "\n",
        "# Create a CSV file for submitting predictions to Kaggle\n",
        "submission = pd.DataFrame({\n",
        "    'PassengerId': test_copy['PassengerId'],  # Ensure that 'PassengerId' exists in test_copy\n",
        "    'Survived': final_predictions\n",
        "})\n",
        "\n",
        "# Save the result\n",
        "submission.to_csv('submission.csv', index=False)\n",
        "print(\"Predictions have been saved to submission.csv\")\n",
        "\n",
        "# Download the predictions file\n",
        "files.download('submission.csv')"
      ],
      "metadata": {
        "colab": {
          "base_uri": "https://localhost:8080/",
          "height": 104
        },
        "id": "X39QVgvqZl7g",
        "outputId": "e8439888-ab56-4a8a-a311-27e892a6d9dc"
      },
      "execution_count": 218,
      "outputs": [
        {
          "output_type": "stream",
          "name": "stdout",
          "text": [
            "Selected Features by RFE: Index(['Pclass', 'Sex', 'Age', 'SibSp', 'Parch', 'Fare', 'Embarked', 'Title',\n",
            "       'FamilySize', 'FarePerPerson', 'Deck', 'Age*Class', 'Age*Fare',\n",
            "       'CabinBool', 'TicketFreq'],\n",
            "      dtype='object')\n",
            "Predictions have been saved to submission.csv\n"
          ]
        },
        {
          "output_type": "display_data",
          "data": {
            "text/plain": [
              "<IPython.core.display.Javascript object>"
            ],
            "application/javascript": [
              "\n",
              "    async function download(id, filename, size) {\n",
              "      if (!google.colab.kernel.accessAllowed) {\n",
              "        return;\n",
              "      }\n",
              "      const div = document.createElement('div');\n",
              "      const label = document.createElement('label');\n",
              "      label.textContent = `Downloading \"${filename}\": `;\n",
              "      div.appendChild(label);\n",
              "      const progress = document.createElement('progress');\n",
              "      progress.max = size;\n",
              "      div.appendChild(progress);\n",
              "      document.body.appendChild(div);\n",
              "\n",
              "      const buffers = [];\n",
              "      let downloaded = 0;\n",
              "\n",
              "      const channel = await google.colab.kernel.comms.open(id);\n",
              "      // Send a message to notify the kernel that we're ready.\n",
              "      channel.send({})\n",
              "\n",
              "      for await (const message of channel.messages) {\n",
              "        // Send a message to notify the kernel that we're ready.\n",
              "        channel.send({})\n",
              "        if (message.buffers) {\n",
              "          for (const buffer of message.buffers) {\n",
              "            buffers.push(buffer);\n",
              "            downloaded += buffer.byteLength;\n",
              "            progress.value = downloaded;\n",
              "          }\n",
              "        }\n",
              "      }\n",
              "      const blob = new Blob(buffers, {type: 'application/binary'});\n",
              "      const a = document.createElement('a');\n",
              "      a.href = window.URL.createObjectURL(blob);\n",
              "      a.download = filename;\n",
              "      div.appendChild(a);\n",
              "      a.click();\n",
              "      div.remove();\n",
              "    }\n",
              "  "
            ]
          },
          "metadata": {}
        },
        {
          "output_type": "display_data",
          "data": {
            "text/plain": [
              "<IPython.core.display.Javascript object>"
            ],
            "application/javascript": [
              "download(\"download_6f7f24c8-4a69-408f-8fce-d0995b85cfec\", \"submission.csv\", 2839)"
            ]
          },
          "metadata": {}
        }
      ]
    },
    {
      "cell_type": "markdown",
      "source": [
        "--------------------------------------------------------------------------------\n",
        "Save and download the cleaned train/test dataset to your local machine. Without/with being normalized with min-max."
      ],
      "metadata": {
        "id": "hZQIa2_4V4Hz"
      }
    },
    {
      "cell_type": "code",
      "source": [
        "# Save the cleaned train/test dataset to a CSV file\n",
        "train.to_csv('train_cleaned.csv', index=False)\n",
        "test.to_csv('test_cleaned.csv', index=False)\n",
        "\n",
        "# train_copy.to_csv('train_copy_cleaned.csv', index=False)\n",
        "# test_copy.to_csv('test_copy_cleaned.csv', index=False)\n",
        "\n",
        "# Download the cleaned train/test file\n",
        "files.download('train_cleaned.csv')\n",
        "files.download('test_cleaned.csv')\n",
        "\n",
        "# files.download('train_copy_cleaned.csv')\n",
        "# files.download('test_copy_cleaned.csv')"
      ],
      "metadata": {
        "colab": {
          "base_uri": "https://localhost:8080/",
          "height": 17
        },
        "id": "4xQGskLASpBR",
        "outputId": "a56e9cd7-cc7a-4cbd-e2dc-9f4ca20b4b29"
      },
      "execution_count": 219,
      "outputs": [
        {
          "output_type": "display_data",
          "data": {
            "text/plain": [
              "<IPython.core.display.Javascript object>"
            ],
            "application/javascript": [
              "\n",
              "    async function download(id, filename, size) {\n",
              "      if (!google.colab.kernel.accessAllowed) {\n",
              "        return;\n",
              "      }\n",
              "      const div = document.createElement('div');\n",
              "      const label = document.createElement('label');\n",
              "      label.textContent = `Downloading \"${filename}\": `;\n",
              "      div.appendChild(label);\n",
              "      const progress = document.createElement('progress');\n",
              "      progress.max = size;\n",
              "      div.appendChild(progress);\n",
              "      document.body.appendChild(div);\n",
              "\n",
              "      const buffers = [];\n",
              "      let downloaded = 0;\n",
              "\n",
              "      const channel = await google.colab.kernel.comms.open(id);\n",
              "      // Send a message to notify the kernel that we're ready.\n",
              "      channel.send({})\n",
              "\n",
              "      for await (const message of channel.messages) {\n",
              "        // Send a message to notify the kernel that we're ready.\n",
              "        channel.send({})\n",
              "        if (message.buffers) {\n",
              "          for (const buffer of message.buffers) {\n",
              "            buffers.push(buffer);\n",
              "            downloaded += buffer.byteLength;\n",
              "            progress.value = downloaded;\n",
              "          }\n",
              "        }\n",
              "      }\n",
              "      const blob = new Blob(buffers, {type: 'application/binary'});\n",
              "      const a = document.createElement('a');\n",
              "      a.href = window.URL.createObjectURL(blob);\n",
              "      a.download = filename;\n",
              "      div.appendChild(a);\n",
              "      a.click();\n",
              "      div.remove();\n",
              "    }\n",
              "  "
            ]
          },
          "metadata": {}
        },
        {
          "output_type": "display_data",
          "data": {
            "text/plain": [
              "<IPython.core.display.Javascript object>"
            ],
            "application/javascript": [
              "download(\"download_480c8778-a0b5-43d9-b47a-4a933e8b7fa9\", \"train_cleaned.csv\", 63927)"
            ]
          },
          "metadata": {}
        },
        {
          "output_type": "display_data",
          "data": {
            "text/plain": [
              "<IPython.core.display.Javascript object>"
            ],
            "application/javascript": [
              "\n",
              "    async function download(id, filename, size) {\n",
              "      if (!google.colab.kernel.accessAllowed) {\n",
              "        return;\n",
              "      }\n",
              "      const div = document.createElement('div');\n",
              "      const label = document.createElement('label');\n",
              "      label.textContent = `Downloading \"${filename}\": `;\n",
              "      div.appendChild(label);\n",
              "      const progress = document.createElement('progress');\n",
              "      progress.max = size;\n",
              "      div.appendChild(progress);\n",
              "      document.body.appendChild(div);\n",
              "\n",
              "      const buffers = [];\n",
              "      let downloaded = 0;\n",
              "\n",
              "      const channel = await google.colab.kernel.comms.open(id);\n",
              "      // Send a message to notify the kernel that we're ready.\n",
              "      channel.send({})\n",
              "\n",
              "      for await (const message of channel.messages) {\n",
              "        // Send a message to notify the kernel that we're ready.\n",
              "        channel.send({})\n",
              "        if (message.buffers) {\n",
              "          for (const buffer of message.buffers) {\n",
              "            buffers.push(buffer);\n",
              "            downloaded += buffer.byteLength;\n",
              "            progress.value = downloaded;\n",
              "          }\n",
              "        }\n",
              "      }\n",
              "      const blob = new Blob(buffers, {type: 'application/binary'});\n",
              "      const a = document.createElement('a');\n",
              "      a.href = window.URL.createObjectURL(blob);\n",
              "      a.download = filename;\n",
              "      div.appendChild(a);\n",
              "      a.click();\n",
              "      div.remove();\n",
              "    }\n",
              "  "
            ]
          },
          "metadata": {}
        },
        {
          "output_type": "display_data",
          "data": {
            "text/plain": [
              "<IPython.core.display.Javascript object>"
            ],
            "application/javascript": [
              "download(\"download_2e5d08ba-45ca-414b-8038-3923c0cc1f28\", \"test_cleaned.csv\", 31805)"
            ]
          },
          "metadata": {}
        }
      ]
    },
    {
      "cell_type": "markdown",
      "source": [
        "--------------------------------------------------------------------------------\n",
        "Save and download the pretrained model to your local machine."
      ],
      "metadata": {
        "id": "rNFZrTO8V4ti"
      }
    },
    {
      "cell_type": "code",
      "source": [
        "# Save the soft voting classifier to a file\n",
        "joblib.dump(voting_clf_soft_full_train, 'soft_voting_classifier.pkl')\n",
        "print(\"Model has been saved to soft_voting_classifier.pkl\")\n",
        "\n",
        "# Download the saved model file\n",
        "files.download('soft_voting_classifier.pkl')"
      ],
      "metadata": {
        "colab": {
          "base_uri": "https://localhost:8080/",
          "height": 34
        },
        "id": "l09fG3UpRZ5D",
        "outputId": "97411e72-0179-4739-8b43-bcdcd6a3420c"
      },
      "execution_count": 220,
      "outputs": [
        {
          "output_type": "stream",
          "name": "stdout",
          "text": [
            "Model has been saved to soft_voting_classifier.pkl\n"
          ]
        },
        {
          "output_type": "display_data",
          "data": {
            "text/plain": [
              "<IPython.core.display.Javascript object>"
            ],
            "application/javascript": [
              "\n",
              "    async function download(id, filename, size) {\n",
              "      if (!google.colab.kernel.accessAllowed) {\n",
              "        return;\n",
              "      }\n",
              "      const div = document.createElement('div');\n",
              "      const label = document.createElement('label');\n",
              "      label.textContent = `Downloading \"${filename}\": `;\n",
              "      div.appendChild(label);\n",
              "      const progress = document.createElement('progress');\n",
              "      progress.max = size;\n",
              "      div.appendChild(progress);\n",
              "      document.body.appendChild(div);\n",
              "\n",
              "      const buffers = [];\n",
              "      let downloaded = 0;\n",
              "\n",
              "      const channel = await google.colab.kernel.comms.open(id);\n",
              "      // Send a message to notify the kernel that we're ready.\n",
              "      channel.send({})\n",
              "\n",
              "      for await (const message of channel.messages) {\n",
              "        // Send a message to notify the kernel that we're ready.\n",
              "        channel.send({})\n",
              "        if (message.buffers) {\n",
              "          for (const buffer of message.buffers) {\n",
              "            buffers.push(buffer);\n",
              "            downloaded += buffer.byteLength;\n",
              "            progress.value = downloaded;\n",
              "          }\n",
              "        }\n",
              "      }\n",
              "      const blob = new Blob(buffers, {type: 'application/binary'});\n",
              "      const a = document.createElement('a');\n",
              "      a.href = window.URL.createObjectURL(blob);\n",
              "      a.download = filename;\n",
              "      div.appendChild(a);\n",
              "      a.click();\n",
              "      div.remove();\n",
              "    }\n",
              "  "
            ]
          },
          "metadata": {}
        },
        {
          "output_type": "display_data",
          "data": {
            "text/plain": [
              "<IPython.core.display.Javascript object>"
            ],
            "application/javascript": [
              "download(\"download_465fb117-518a-464a-876c-3d9bb55ca1b4\", \"soft_voting_classifier.pkl\", 3815106)"
            ]
          },
          "metadata": {}
        }
      ]
    }
  ]
}